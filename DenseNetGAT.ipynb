{
 "cells": [
  {
   "cell_type": "code",
   "execution_count": 18,
   "id": "e173384c",
   "metadata": {
    "pycharm": {
     "name": "#%%\n"
    }
   },
   "outputs": [],
   "source": [
    "import torch\n",
    "import torchvision\n",
    "import pandas as pd\n",
    "from util.util import My_Transform, My_Normalize, metric\n",
    "from sklearn.model_selection import train_test_split\n",
    "import numpy as np\n",
    "import cv2\n",
    "import os\n",
    "from PIL import Image\n",
    "from torchvision import transforms, utils\n",
    "from torch.utils.data import Dataset, DataLoader\n",
    "from torch_geometric.nn import global_mean_pool, avg_pool"
   ]
  },
  {
   "cell_type": "code",
   "execution_count": 13,
   "id": "206454c4",
   "metadata": {
    "pycharm": {
     "name": "#%%\n"
    }
   },
   "outputs": [],
   "source": [
    "import numpy as np\n",
    "import torch.nn as nn\n",
    "import torch\n",
    "import math\n",
    "from tqdm.auto import tqdm\n",
    "from sklearn.metrics import roc_auc_score\n",
    "from PIL import Image\n",
    "import torchvision.transforms as transforms\n",
    "\n",
    "\n",
    "class GANLoss(nn.Module):\n",
    "    \"\"\" Initialize the GANLoss class.\n",
    "    Parameters:\n",
    "        gan_mode (str) - - the type of GAN objective. It currently supports vanilla, lsgan, and wgangp.\n",
    "        target_real_label (bool) - - label for a real image\n",
    "        target_fake_label (bool) - - label of a fake image\n",
    "    Note: Do not use sigmoid as the last layer of Discriminator.\n",
    "    LSGAN needs no sigmoid. vanilla GANs will handle it with BCEWithLogitsLoss.\n",
    "    \"\"\"\n",
    "    def __init__(self, use_lsgan=True,\n",
    "                 target_real_label=1.0,\n",
    "                 target_fake_label=0.0,\n",
    "                 tensor=torch.FloatTensor):\n",
    "        super(GANLoss, self).__init__()\n",
    "        self.register_buffer('real_label', torch.tensor(target_real_label))\n",
    "        self.register_buffer('fake_label', torch.tensor(target_fake_label))\n",
    "        self.real_label_var = None\n",
    "        self.fake_label_var = None\n",
    "        self.Tensor = tensor\n",
    "        if use_lsgan:\n",
    "            self.loss = nn.MSELoss()\n",
    "        else:\n",
    "            self.loss = nn.BCEWithLogitsLoss()\n",
    "\n",
    "    def get_target_tensor(self, input,\n",
    "                          target_is_real):\n",
    "        if target_is_real:\n",
    "            target_tensor = self.real_label\n",
    "        else:\n",
    "            target_tensor = self.fake_label\n",
    "        return target_tensor.expand_as(input)\n",
    "\n",
    "    def __call__(self, input,\n",
    "                 target_is_real):\n",
    "        target_tensor = self.get_target_tensor(input, target_is_real)\n",
    "        target_tensor = target_tensor.cuda()\n",
    "        print(target_tensor.size(), target_tensor)\n",
    "        # print('device check ',input.device, target_tensor.device)\n",
    "        return self.loss(input, target_tensor)\n",
    "\n",
    "def get_adj(size):\n",
    "    index_matrix = [[j*size + i for i in range(size)] for j in range(size)]\n",
    "    adj = []\n",
    "    for x in range(0, size):\n",
    "        for y in range(0, size):\n",
    "            # upper row\n",
    "            if x-1 >= 0:\n",
    "                if y-1 >= 0:\n",
    "                    adj.append([index_matrix[x][y], index_matrix[x-1][y-1]])\n",
    "                adj.append([index_matrix[x][y], index_matrix[x-1][y]])\n",
    "                if y+1 < size:\n",
    "                    adj.append([index_matrix[x][y], index_matrix[x-1][y+1]])\n",
    "            # current row\n",
    "            if y-1 >= 0:\n",
    "                adj.append([index_matrix[x][y], index_matrix[x][y-1]])\n",
    "            # adj.append([x,y])\n",
    "            if y+1 < size:\n",
    "                adj.append([index_matrix[x][y], index_matrix[x][y+1]])\n",
    "            # lower row\n",
    "            if x+1 < size:\n",
    "                if y - 1 >= 0:\n",
    "                    adj.append([index_matrix[x][y], index_matrix[x + 1][y - 1]])\n",
    "                adj.append([index_matrix[x][y], index_matrix[x + 1][y]])\n",
    "                if y + 1 < size:\n",
    "                    adj.append([index_matrix[x][y], index_matrix[x + 1][y + 1]])\n",
    "        # adj.sort(key = lambda x:x[0])\n",
    "    return adj\n",
    "\n",
    "def get_similarity(size, feature_matrix):\n",
    "    cos_sim = nn.CosineSimilarity(dim=1, eps=1e-6)\n",
    "    wt = []\n",
    "    for x in range(0, size):\n",
    "        for y in range(0, size):\n",
    "            # upper row\n",
    "            if x-1 >= 0:\n",
    "                if y-1 >= 0:\n",
    "                    wt.append(cos_sim(feature_matrix[:,x,y,:], feature_matrix[:,x-1,y-1,:]).tolist())\n",
    "                wt.append(cos_sim(feature_matrix[:, x, y, :], feature_matrix[:, x - 1, y, :]).tolist())\n",
    "                if y+1 < size:\n",
    "                    wt.append(cos_sim(feature_matrix[:, x, y, :], feature_matrix[:, x - 1, y + 1, :]).tolist())\n",
    "            # current row\n",
    "            if y-1 >= 0:\n",
    "                wt.append(cos_sim(feature_matrix[:, x, y, :], feature_matrix[:, x, y - 1, :]).tolist())\n",
    "            # adj.append([x,y])\n",
    "            if y+1 < size:\n",
    "                wt.append(cos_sim(feature_matrix[:, x, y, :], feature_matrix[:, x, y + 1, :]).tolist())\n",
    "            # lower row\n",
    "            if x+1 < size:\n",
    "                if y - 1 >= 0:\n",
    "                    wt.append(cos_sim(feature_matrix[:, x, y, :], feature_matrix[:, x+1, y - 1, :]).tolist())\n",
    "                wt.append(cos_sim(feature_matrix[:, x, y, :], feature_matrix[:, x + 1, y, :]).tolist())\n",
    "                if y + 1 < size:\n",
    "                    wt.append(cos_sim(feature_matrix[:, x, y, :], feature_matrix[:, x + 1, y + 1, :]).tolist())\n",
    "    wt = torch.tensor(wt) # number_edge, batch\n",
    "    n_e, n_b = wt.size()\n",
    "    wt = wt.view(n_b, n_e) # batch, number_edge\n",
    "    return wt\n",
    "\n",
    "def get_idx(data, num_labelled):\n",
    "    labels = data.y\n",
    "\n",
    "    # obtain train/val/test idx - ignore val for now\n",
    "    label_pos = (labels == 1).nonzero(as_tuple=True)[0]\n",
    "    label_neg = (labels == 0).nonzero(as_tuple=True)[0]\n",
    "    print('total positive ',len(label_pos))\n",
    "    print('total negative ', len(label_neg))\n",
    "    neg2pos = len(label_neg)/len(label_pos)\n",
    "    # select train idx\n",
    "    index_pos_train = label_pos.float().multinomial(num_samples=num_labelled, replacement=True)\n",
    "    index_neg_train = label_neg.float().multinomial(num_samples=num_labelled, replacement=True)\n",
    "    index_train = torch.cat((label_pos[index_pos_train].long(), label_neg[index_neg_train].long()), 0)\n",
    "    # use the rest as test idx\n",
    "    label_pos_test = []\n",
    "    label_neg_test = []\n",
    "    for i in label_pos:\n",
    "        if i not in label_pos[index_pos_train]:\n",
    "            label_pos_test.append(i)\n",
    "    for i in label_neg:\n",
    "        if i not in label_neg[index_neg_train]:\n",
    "            label_neg_test.append(i)\n",
    "\n",
    "    index_test = torch.cat((torch.tensor(label_pos_test).long(), torch.tensor(label_neg_test).long()), 0)\n",
    "    return index_train, index_test, neg2pos\n",
    "\n",
    "def obtain_identity_adj(data):\n",
    "    n = data.size()[0]\n",
    "    source, target = np.arange(n).astype(int), np.arange(n).astype(int)\n",
    "    adj_edge_list = np.concatenate(([source], [target]), axis=0)\n",
    "    adj_edge_list = torch.tensor(adj_edge_list, dtype=torch.long).contiguous()\n",
    "    return adj_edge_list\n",
    "\n",
    "def accuracy(output, labels, detail=False):\n",
    "    preds = output.max(1)[1].type_as(labels)\n",
    "    correct = preds.eq(labels).double()\n",
    "    correct = correct.sum()\n",
    "    if detail:\n",
    "        print('preds pos', len(preds[preds == 1]))\n",
    "        print('preds neg', len(preds[preds == 0]))\n",
    "        print('number pos ', len(labels[labels == 1]))\n",
    "        print('number neg ', len(labels[labels == 0]))\n",
    "        correct_pos = 0\n",
    "        correct_neg = 0\n",
    "        for i in range(len(labels)):\n",
    "            if labels[i] == preds[i] == 0:\n",
    "                correct_neg += 1\n",
    "            elif labels[i] == preds[i] == 1:\n",
    "                correct_pos += 1\n",
    "            else:\n",
    "                continue\n",
    "        print('number of correct positive', correct_pos)\n",
    "        print('number of correct negative', correct_neg)\n",
    "        print()\n",
    "    return correct / len(labels)\n",
    "\n",
    "def adaptation_factor(x):\n",
    "    den = 1.0 + math.exp(-10 * x)\n",
    "    lamb = 2.0 / den - 1.0\n",
    "    return min(lamb, 1.0)\n",
    "\n",
    "class My_Transform(object):\n",
    "    '''\n",
    "    customised image augmentations\n",
    "    '''\n",
    "    def __init__(self):\n",
    "        pass\n",
    "\n",
    "    def __call__(self, sample):\n",
    "        image, label, pth = sample['image'], sample['label'], sample['pth']\n",
    "        aug = transforms.Compose([\n",
    "            transforms.RandomHorizontalFlip(0.5),\n",
    "            transforms.RandomVerticalFlip(0.5),\n",
    "            # transforms.RandomRotation(degrees=(0, 180)),\n",
    "            # transforms.RandomPosterize(bits=2),\n",
    "            # transforms.RandomAdjustSharpness(sharpness_factor=2),\n",
    "            # transforms.RandomAutocontrast()\n",
    "        ])\n",
    "        augmented = aug(image)\n",
    "\n",
    "        return {'image': augmented, 'label':label, 'pth':pth}\n",
    "\n",
    "class My_Normalize(object):\n",
    "    '''\n",
    "    Normalise image data\n",
    "    '''\n",
    "    def __init__(self):\n",
    "        pass\n",
    "\n",
    "    def __call__(self, sample):\n",
    "        image, label, pth = sample['image'], sample['label'], sample['pth']\n",
    "        aug_list = [transforms.ToTensor(),\n",
    "                    transforms.Normalize(mean=[0.485, 0.456, 0.406], std=[0.229, 0.224, 0.225])\n",
    "                    ]\n",
    "        aug = transforms.Compose(aug_list)\n",
    "        # print(image) torch.FloatTensor([label])\n",
    "        augmented = aug(image)\n",
    "        return {'image': augmented, 'label':label, 'pth':pth}\n",
    "\n",
    "\n",
    "def metric(output, labels, batch_size, use_graph=False, use_pool=False):\n",
    "    p_label = {}\n",
    "    TP = TN = FP = FN = 0\n",
    "    slide_label = []\n",
    "    slide_prob = []\n",
    "\n",
    "    if use_graph and not use_pool:\n",
    "        use_patch_prediction = True\n",
    "    else:\n",
    "        use_patch_prediction = False\n",
    "\n",
    "    if use_patch_prediction:\n",
    "        output = output.view(batch_size, -1, 2)\n",
    "        for i in range(output.size()[0]):\n",
    "            prediction_matrix = torch.argmax(output[i], dim=1)\n",
    "            # prediction = torch.mean(prediction_matrix.float()).int()\n",
    "            prediction = 1 if 1 in prediction_matrix else 0\n",
    "            label_use = torch.argmax(labels[i]).cpu().item()\n",
    "            if prediction == label_use == 0:\n",
    "                TN += 1\n",
    "            elif prediction == label_use == 1:\n",
    "                TP += 1\n",
    "            elif prediction == 0 and label_use == 1:\n",
    "                FN += 1\n",
    "            else:\n",
    "                FP += 1\n",
    "    else:\n",
    "        for i in range(output.size()[0]):\n",
    "            prediction = torch.argmax(output[i])\n",
    "            label_use = torch.argmax(labels[i]).cpu().item()\n",
    "            if prediction.cpu().item() == label_use == 0:\n",
    "                TN += 1\n",
    "            elif prediction.cpu().item() == label_use == 1:\n",
    "                TP += 1\n",
    "            elif prediction.cpu().item() == 0 and label_use == 1:\n",
    "                FN += 1\n",
    "            else:\n",
    "                FP += 1\n",
    "            slide_label.append(label_use)\n",
    "            slide_prob.append(output[i][1].cpu().item())\n",
    "    return TN, TP, FN, FP"
   ]
  },
  {
   "cell_type": "code",
   "execution_count": 14,
   "id": "be7b4e04",
   "metadata": {
    "pycharm": {
     "name": "#%%\n"
    }
   },
   "outputs": [],
   "source": [
    "class WSIDataset(Dataset):\n",
    "    \"\"\"Generate dataset.\"\"\"\n",
    "    def __init__(self, filepath, crf=False, annotation_pth=False):\n",
    "        self.all_data = pd.read_csv(filepath)\n",
    "        self.crf = crf\n",
    "        if not self.crf:\n",
    "            all_imgpth = self.all_data['image'].tolist()\n",
    "            all_label = self.all_data['label'].tolist()\n",
    "            self.X_train, self.X_test, self.y_train, self.y_test = self.stage_split(all_imgpth, all_label)\n",
    "            self.aug_transform = transforms.Compose([My_Transform()])\n",
    "            self.normalise_transform = transforms.Compose([My_Normalize()])\n",
    "        else:\n",
    "            self.annotation = annotation_pth\n",
    "            all_normal, all_tumor = self.Obtain_detail(self.all_data['label'].tolist())\n",
    "            print('total: ', all_normal, all_tumor)\n",
    "            self.train_data = self.all_data.sample(frac=0.8, replace=False, random_state=200)  # random state is a seed value\n",
    "            self.test_data = self.all_data.drop(self.train_data.index)\n",
    "            train_normal, train_tumor = self.Obtain_detail(self.train_data['label'].tolist())\n",
    "            print('train: ', train_normal, train_tumor)\n",
    "            test_normal, test_tumor = self.Obtain_detail(self.test_data['label'].tolist())\n",
    "            print('test: ', test_normal, test_tumor)\n",
    "\n",
    "    def stage_split(self, X, y):\n",
    "        X_train, X_test, y_train, y_test = train_test_split(X, y, test_size=0.2, random_state=1)\n",
    "        # X_train, X_val, y_train, y_val = train_test_split(X_train, y_train, test_size=0.25, random_state=1)  # 0.25 x 0.8 = 0.2\n",
    "        print('Train detail: ')\n",
    "        train_normal, train_tumor = self.Obtain_detail(y_train)\n",
    "        print('normal vs tumor = %d vs %d'%(train_normal, train_tumor))\n",
    "        print('Test detail: ')\n",
    "        test_normal, test_tumor = self.Obtain_detail(y_test)\n",
    "        print('normal vs tumor = %d vs %d'%(test_normal, test_tumor))\n",
    "        return X_train, X_test, y_train, y_test\n",
    "\n",
    "    def Obtain_detail(self, y):\n",
    "        normal = tumor = 0\n",
    "        for i in y:\n",
    "            if i == 'Normal':\n",
    "                normal += 1\n",
    "            else:\n",
    "                tumor += 1\n",
    "        return normal, tumor\n",
    "\n",
    "    def Obtain_dataset(self, stage):\n",
    "        if stage == 'Train':\n",
    "            if self.crf:\n",
    "                self.dataset = GridImageDataset(self.train_data, self.annotation, 768, 256)\n",
    "            else:\n",
    "                self.dataset = StageDataset(self.X_train, self.y_train, self.normalise_transform, augmentation=self.aug_transform)\n",
    "        elif stage == 'Test':\n",
    "            if self.crf:\n",
    "                self.dataset = GridImageDataset(self.test_data, self.annotation, 768, 256)\n",
    "            else:\n",
    "                self.dataset = StageDataset(self.X_test, self.y_test, self.normalise_transform)\n",
    "        return self.dataset\n",
    "\n",
    "    def Obtain_loader(self, stage, batch_size):\n",
    "        ds = self.Obtain_dataset(stage)\n",
    "        self.loader = DataLoader(ds,\n",
    "                                 batch_size=batch_size,\n",
    "                                 shuffle=True,\n",
    "                                 num_workers=1,\n",
    "                                 drop_last=True)\n",
    "        return self.loader\n",
    "\n",
    "\n",
    "class StageDataset(Dataset):\n",
    "    def __init__(self, X, y, normalisation, augmentation=False):\n",
    "        self.map_dict = {'Normal': torch.FloatTensor([1.0, 0.0]), 'Tumor': torch.FloatTensor([0.0, 1.0])}\n",
    "        self.X = X\n",
    "        self.y = y\n",
    "        self.normalisation = normalisation\n",
    "        self.augmentation = augmentation\n",
    "\n",
    "    def __len__(self):\n",
    "        return len(self.X)\n",
    "\n",
    "    def __getitem__(self, idx):\n",
    "        '''image\tlabel'''\n",
    "        img_path = self.X[idx]\n",
    "        label = self.map_dict[self.y[idx]]\n",
    "        # image = cv2.imread(img_path, cv2.COLOR_BGR2RGB)\n",
    "        image = Image.open(img_path)\n",
    "        sample = {'image': image, 'label': label, 'pth':img_path}\n",
    "\n",
    "        if self.augmentation:\n",
    "            sample = self.augmentation(sample)\n",
    "        sample = self.normalisation(sample)\n",
    "        return sample\n",
    "\n",
    "\n",
    "class GridImageDataset(Dataset):\n",
    "    \"\"\"\n",
    "    Data producer that generate a square grid, e.g. 3x3, of patches and their\n",
    "    corresponding labels from pre-sampled images.\n",
    "    \"\"\"\n",
    "\n",
    "    def __init__(self, data_path, json_path, img_size, patch_size,\n",
    "                 crop_size=224, normalize=True):\n",
    "        \"\"\"\n",
    "        Initialize the data producer.\n",
    "        Arguments:\n",
    "            data_path: string, path to pre-sampled images using patch_gen.py\n",
    "            img_size: int, size of pre-sampled images, e.g. 768\n",
    "            patch_size: int, size of the patch, e.g. 256\n",
    "            crop_size: int, size of the final crop that is feed into a CNN,\n",
    "                e.g. 224 for ResNet\n",
    "            normalize: bool, if normalize the [0, 255] pixel values to [-1, 1],\n",
    "                mostly False for debuging purpose\n",
    "        \"\"\"\n",
    "        self._df = data_path\n",
    "        self._json_path = json_path\n",
    "        self._img_size = img_size\n",
    "        self._patch_size = patch_size\n",
    "        self._crop_size = crop_size\n",
    "        self._normalize = normalize\n",
    "        self._color_jitter = transforms.ColorJitter(64.0 / 255, 0.75, 0.25, 0.04)\n",
    "        self._preprocess()\n",
    "\n",
    "    def _preprocess(self):\n",
    "        if self._img_size % self._patch_size != 0:\n",
    "            raise Exception('Image size / patch size != 0 : {} / {}'.\n",
    "                            format(self._img_size, self._patch_size))\n",
    "\n",
    "        self._patch_per_side = self._img_size // self._patch_size\n",
    "        self._grid_size = self._patch_per_side * self._patch_per_side\n",
    "\n",
    "        self._pids = list(map(lambda x: x.strip('.json'),\n",
    "                              os.listdir(self._json_path)))\n",
    "\n",
    "\n",
    "    def __len__(self):\n",
    "        return len(self._df)\n",
    "\n",
    "    def __getitem__(self, idx):\n",
    "        image_pth = self._df.iloc[idx, 0]\n",
    "        mask_pth = self._df.iloc[idx, 3]\n",
    "\n",
    "        slide_name = self._df.iloc[idx, 2]\n",
    "        image_name = image_pth.split('/')[-1].split('.png')[0].split('_')\n",
    "        x_top_left, y_top_left = 0, 0  # int(image_name[0]), int(image_name[1])\n",
    "        patch_label = self._df.iloc[idx, 1]\n",
    "\n",
    "        # the grid of labels for each patch\n",
    "        label_grid = np.zeros((self._patch_per_side, self._patch_per_side),\n",
    "                              dtype=np.float32)\n",
    "        if mask_pth != 'Nothing':\n",
    "            mask_np = cv2.imread(mask_pth)\n",
    "            for x_i in range(self._patch_per_side):\n",
    "                x_t = x_top_left + self._patch_size * x_i\n",
    "                for y_i in range(self._patch_per_side):\n",
    "                    y_t = y_top_left + self._patch_size * y_i\n",
    "                    select_tumor_mask = mask_np[x_t: x_t + self._patch_size, y_t: y_t + self._patch_size]\n",
    "                    include_tumor = np.count_nonzero(select_tumor_mask)\n",
    "\n",
    "                    if include_tumor / (mask_np.shape[0] * mask_np.shape[1]) > 0.001:\n",
    "                        label = 1\n",
    "                    else:\n",
    "                        label = 0\n",
    "\n",
    "                    label_grid[y_i, x_i] = label\n",
    "\n",
    "        img = Image.open(image_pth)\n",
    "\n",
    "        # color jitter\n",
    "        img = self._color_jitter(img)\n",
    "\n",
    "        # use left_right flip\n",
    "        if np.random.rand() > 0.5:\n",
    "            img = img.transpose(Image.FLIP_LEFT_RIGHT)\n",
    "            label_grid = np.fliplr(label_grid)\n",
    "\n",
    "        # use rotate\n",
    "        num_rotate = np.random.randint(0, 4)\n",
    "        img = img.rotate(90 * num_rotate)\n",
    "        label_grid = np.rot90(label_grid, num_rotate)\n",
    "\n",
    "        # PIL image:   H x W x C\n",
    "        # torch image: C X H X W\n",
    "        img = np.array(img, dtype=np.float32).transpose((2, 0, 1))\n",
    "\n",
    "        if self._normalize:\n",
    "            img = (img - 128.0) / 128.0\n",
    "\n",
    "        # flatten the square grid\n",
    "        img_flat = np.zeros(\n",
    "            (self._grid_size, 3, self._crop_size, self._crop_size),\n",
    "            dtype=np.float32)\n",
    "        label_flat = np.zeros(self._grid_size, dtype=np.float32)\n",
    "\n",
    "        idx = 0\n",
    "        for x_idx in range(self._patch_per_side):\n",
    "            for y_idx in range(self._patch_per_side):\n",
    "                # center crop each patch\n",
    "                x_start = int(\n",
    "                    (x_idx + 0.5) * self._patch_size - self._crop_size / 2)\n",
    "                x_end = x_start + self._crop_size\n",
    "                y_start = int(\n",
    "                    (y_idx + 0.5) * self._patch_size - self._crop_size / 2)\n",
    "                y_end = y_start + self._crop_size\n",
    "                img_flat[idx] = img[:, x_start:x_end, y_start:y_end]\n",
    "                label_flat[idx] = label_grid[x_idx, y_idx]\n",
    "\n",
    "                idx += 1\n",
    "\n",
    "        return (img_flat, label_flat)"
   ]
  },
  {
   "cell_type": "code",
   "execution_count": 15,
   "id": "51118ec6",
   "metadata": {
    "pycharm": {
     "name": "#%%\n"
    }
   },
   "outputs": [],
   "source": [
    "import torch\n",
    "import torch.nn as nn\n",
    "import torch.nn.functional as F\n",
    "import torchvision\n",
    "from torch_geometric.nn import GCNConv, GATConv, GATv2Conv, TransformerConv, \\\n",
    "    TAGConv, SGConv, HypergraphConv, ClusterGCNConv, GENConv, FiLMConv, SuperGATConv, \\\n",
    "    HGTConv\n",
    "\n",
    "class DenseGNN(nn.Module):\n",
    "    def __init__(self, nfeat, nhid, nclass, dropout, batch_idx='No'):\n",
    "        super(DenseGNN, self).__init__()\n",
    "        base_model = torchvision.models.densenet121()#torchvision.models.resnet50()\n",
    "        self.feature_et = nn.Sequential(*list(base_model.children())[:-1])\n",
    "        self.gcn1 = GATConv(nfeat, nhid)\n",
    "        self.gcn2 = GATConv(nhid, nclass)\n",
    "        self.dropout = dropout\n",
    "        self.MSEloss =  nn.MSELoss()\n",
    "        self.batch_idx = batch_idx\n",
    "\n",
    "    def forward(self, x, graph_data):\n",
    "        # get deep feature\n",
    "        x = self.feature_et(x)\n",
    "        bn, ch, h, w = x.shape\n",
    "\n",
    "        # get gcn feature\n",
    "        x = x.view(bn * h * w, ch)\n",
    "        adj = graph_data.edge_index\n",
    "        x_gcn = F.relu(self.gcn1(x, adj))\n",
    "        # x_gcn = F.dropout(x_gcn, self.dropout, training=self.training)\n",
    "        x_gcn = self.gcn2(x_gcn, adj)\n",
    "        gcn_features = x_gcn\n",
    "        if not isinstance(self.batch_idx, str):\n",
    "            gcn_pool = global_mean_pool(gcn_features, self.batch_idx)\n",
    "            return gcn_pool\n",
    "\n",
    "        return gcn_features\n",
    "\n",
    "    def criterion(self, input, label, bn):\n",
    "        if not isinstance(self.batch_idx, str):\n",
    "            '''\n",
    "            no pooling, expand lable to matrix and apply patch-loss\n",
    "            '''\n",
    "            n_repeat = int(input.size()[0] / bn)\n",
    "            label = torch.repeat_interleave(label, repeats=n_repeat, dim=0).float()\n",
    "\n",
    "        return torch.nn.BCEWithLogitsLoss()(input, label)\n"
   ]
  },
  {
   "cell_type": "code",
   "execution_count": 19,
   "id": "5a754690",
   "metadata": {
    "pycharm": {
     "name": "#%%\n"
    }
   },
   "outputs": [],
   "source": [
    "from omegaconf import DictConfig\n",
    "import hydra\n",
    "import time\n",
    "import numpy as np\n",
    "import torch.nn as nn\n",
    "from tqdm import tqdm\n",
    "import copy\n",
    "import os\n",
    "import torch\n",
    "from util.util import metric, get_adj\n",
    "from data.wsi_dataset import WSIDataset\n",
    "import torchvision\n",
    "from torch_geometric.data import Data, DataLoader\n",
    "\n",
    "def set_parameter_requires_grad(model, feature_extracting):\n",
    "    if feature_extracting:\n",
    "        for param in model.parameters():\n",
    "            param.requires_grad = False\n",
    "\n",
    "\n",
    "def runner():\n",
    "    feature1 = 1024\n",
    "    feature2 = 512\n",
    "    data_root = '/home/congz3414050/HistoGCN/data/5X/all_data.csv'\n",
    "    batch_size = 32\n",
    "    num_epochs = 60\n",
    "    use_graph = True\n",
    "    use_pool = True\n",
    "    model_save_path = '/home/congz3414050/HistoGCN/checkpoint/Scratch_Dense50GATpool_torch.pt'\n",
    "    device = torch.device('cuda') if torch.cuda.is_available() else torch.device('cpu')\n",
    "    print('\\n Using : ', device)\n",
    "\n",
    "    wsi_dataset = WSIDataset(data_root)\n",
    "    trainloader = wsi_dataset.Obtain_loader('Train', batch_size)\n",
    "    testloader = wsi_dataset.Obtain_loader('Test', batch_size)\n",
    "\n",
    "    # check readed data\n",
    "    print('number of training data %d' % len(trainloader))\n",
    "    print('number of testing data %d' % (len(testloader)))\n",
    "\n",
    "    adj_matrx = get_adj(8)\n",
    "    adj_matrx = np.array(adj_matrx)\n",
    "    adj_matrx = torch.tensor(adj_matrx, dtype=torch.long)\n",
    "    adj_matrx = adj_matrx.t().contiguous()\n",
    "    data_list = []\n",
    "    for i in range(batch_size):\n",
    "        data_list.append(Data(x=torch.rand(1, 1), edge_index=adj_matrx))\n",
    "    graphloader = DataLoader(data_list, batch_size=batch_size)\n",
    "    batch_idx = torch.tensor([i for i in range(batch_size)])\n",
    "    batch_idx = batch_idx.unsqueeze(-1)\n",
    "    batch_idx = torch.repeat_interleave(batch_idx, repeats=64, dim=0).float()\n",
    "    batch_idx = batch_idx.squeeze(-1)\n",
    "    batch_idx = batch_idx.long().cuda()\n",
    "\n",
    "    # define model\n",
    "    if use_graph:\n",
    "        print('using cnn+gcn')\n",
    "        if use_pool:\n",
    "            model = DenseGNN(feature1, feature2, nclass=2, dropout=0.5, batch_idx=batch_idx)\n",
    "        else:\n",
    "            model = DenseGNN(feature1, feature2, nclass=2, dropout=0.5)\n",
    "        model.to(device)\n",
    "    else:\n",
    "        print('using cnn')\n",
    "        model = torchvision.models.densenet121()\n",
    "        set_parameter_requires_grad(model, False)\n",
    "\n",
    "        # num_ftrs = model.fc.in_features\n",
    "        # model.fc = nn.Linear(num_ftrs, 2)\n",
    "\n",
    "        model.classifier = nn.Linear(1024, 2)\n",
    "        model.to(device)\n",
    "\n",
    "\n",
    "    since = time.time()\n",
    "    optimizer = torch.optim.Adam(model.parameters(), lr=2e-4)  # , weight_decay=0.01)\n",
    "\n",
    "    criterion = nn.BCEWithLogitsLoss()\n",
    "    best_acc = 0.0\n",
    "    best_loss = float('inf')\n",
    "    best_f1 = 0.0\n",
    "    best_epoch = 0\n",
    "\n",
    "    for epoch in range(num_epochs):\n",
    "        dataloaders = {'train': trainloader, 'val': testloader}\n",
    "        batch_TP = 0\n",
    "        batch_TN = 0\n",
    "        batch_FP = 0\n",
    "        batch_FN = 0\n",
    "        print('Epoch {}/{}'.format(epoch, num_epochs - 1))\n",
    "        print('-' * 10)\n",
    "        # Each epoch has a training and validation phase\n",
    "        for phase in ['train', 'val']:\n",
    "            if phase == 'train':\n",
    "                model.train()  # Set model to training mode\n",
    "            else:\n",
    "                model.eval()  # Set model to evaluate mode\n",
    "            running_loss = 0.0\n",
    "\n",
    "            # Iterate over data.\n",
    "            for data in tqdm(dataloaders[phase]):\n",
    "                inputs = data['image'].to(device=device, dtype=torch.float)\n",
    "                labels = data['label'].to(device=device, dtype=torch.int64)\n",
    "                # zero the parameter gradients\n",
    "                optimizer.zero_grad()\n",
    "                # forward\n",
    "                # track history if only in train\n",
    "                with torch.set_grad_enabled(phase == 'train'):\n",
    "                    if use_graph:\n",
    "                        for graph_data in graphloader:\n",
    "                            outputs = model(inputs, graph_data.cuda())\n",
    "                            labels = labels.squeeze()\n",
    "                            loss = model.criterion(outputs, labels, batch_size)\n",
    "                            TN, TP, FN, FP = metric(outputs, labels, batch_size, use_graph=use_graph, use_pool=use_pool)\n",
    "                    else:\n",
    "                        outputs = model(inputs)\n",
    "                        labels = labels.squeeze()\n",
    "                        loss = criterion(outputs, labels.float())\n",
    "                        # wt = torch.FloatTensor([0.8, 8.0]).cuda()\n",
    "                        # loss = (loss * wt).mean()\n",
    "                        TN, TP, FN, FP = metric(outputs, labels, batch_size)\n",
    "\n",
    "                    if phase == 'train':\n",
    "                        loss.backward()\n",
    "                        optimizer.step()\n",
    "\n",
    "                # statistics\n",
    "                running_loss += loss.item() * inputs.size(0)\n",
    "                batch_TN += TN\n",
    "                batch_TP += TP\n",
    "                batch_FN += FN\n",
    "                batch_FP += FP\n",
    "\n",
    "            epoch_loss = running_loss / len(dataloaders[phase].dataset)\n",
    "            Specificity = batch_TN / (batch_TN + batch_FP)\n",
    "            Sensitivity = batch_TP / (batch_FN + batch_TP)\n",
    "            Precision = batch_TP / (batch_TP + batch_FP)\n",
    "            F1_Score = 2 * (Precision * Sensitivity) / (Precision + Sensitivity)\n",
    "\n",
    "            print('Stage %s'%phase)\n",
    "            print('Specificity: ', Specificity)\n",
    "            print('Sensitivity: ', Sensitivity)\n",
    "            print('Precision: ', Precision)\n",
    "            print('F1-Score: ', F1_Score)\n",
    "            print('Loss: {:.4f} Lr: {}'.format(epoch_loss, optimizer.param_groups[0][\"lr\"]))\n",
    "\n",
    "            # deep copy the modela\n",
    "            if phase == 'val':\n",
    "                val_loss = epoch_loss\n",
    "                if F1_Score > best_f1:\n",
    "                    best_f1 = F1_Score\n",
    "                    best_epoch = epoch\n",
    "                    best_model_wts = copy.deepcopy(model.state_dict())\n",
    "                    torch.save(best_model_wts, model_save_path)\n",
    "                print('===========End of Epoch %d============='%epoch)\n",
    "            # break\n",
    "    time_elapsed = time.time() - since\n",
    "    print('Training complete in {:.0f}m {:.0f}s'.format(time_elapsed // 60, time_elapsed % 60))\n",
    "    print('Best val f1: {:4f} at epoch {:d}'.format(best_f1, best_epoch))"
   ]
  },
  {
   "cell_type": "code",
   "execution_count": null,
   "id": "9084c706",
   "metadata": {
    "pycharm": {
     "name": "#%%\n"
    }
   },
   "outputs": [
    {
     "name": "stdout",
     "output_type": "stream",
     "text": [
      "\n",
      " Using :  cuda\n",
      "Train detail: \n",
      "normal vs tumor = 46353 vs 5509\n",
      "Test detail: \n",
      "normal vs tumor = 11589 vs 1377\n",
      "number of training data 1620\n",
      "number of testing data 405\n",
      "using cnn+gcn\n",
      "Epoch 0/59\n",
      "----------\n"
     ]
    },
    {
     "name": "stderr",
     "output_type": "stream",
     "text": [
      "100%|███████████████████████████████████████████████████████████████████████████████| 1620/1620 [08:09<00:00,  3.31it/s]\n"
     ]
    },
    {
     "name": "stdout",
     "output_type": "stream",
     "text": [
      "Stage train\n",
      "Specificity:  0.9792601864640884\n",
      "Sensitivity:  0.4226017441860465\n",
      "Precision:  0.707636142379069\n",
      "F1-Score:  0.5291775679672392\n",
      "Loss: 0.2242 Lr: 0.0002\n"
     ]
    },
    {
     "name": "stderr",
     "output_type": "stream",
     "text": [
      "100%|█████████████████████████████████████████████████████████████████████████████████| 405/405 [00:52<00:00,  7.66it/s]\n"
     ]
    },
    {
     "name": "stdout",
     "output_type": "stream",
     "text": [
      "Stage val\n",
      "Specificity:  0.97762392306497\n",
      "Sensitivity:  0.4659206510681587\n",
      "Precision:  0.7121279431363838\n",
      "F1-Score:  0.5632961433716948\n",
      "Loss: 0.1781 Lr: 0.0002\n",
      "===========End of Epoch 0=============\n",
      "Epoch 1/59\n",
      "----------\n"
     ]
    },
    {
     "name": "stderr",
     "output_type": "stream",
     "text": [
      "100%|███████████████████████████████████████████████████████████████████████████████| 1620/1620 [08:04<00:00,  3.34it/s]\n"
     ]
    },
    {
     "name": "stdout",
     "output_type": "stream",
     "text": [
      "Stage train\n",
      "Specificity:  0.9837261503928171\n",
      "Sensitivity:  0.5595497458242557\n",
      "Precision:  0.8034410844629822\n",
      "F1-Score:  0.6596746575342465\n",
      "Loss: 0.1772 Lr: 0.0002\n"
     ]
    },
    {
     "name": "stderr",
     "output_type": "stream",
     "text": [
      "100%|█████████████████████████████████████████████████████████████████████████████████| 405/405 [00:53<00:00,  7.59it/s]\n"
     ]
    },
    {
     "name": "stdout",
     "output_type": "stream",
     "text": [
      "Stage val\n",
      "Specificity:  0.9841151993369822\n",
      "Sensitivity:  0.5669039662937673\n",
      "Precision:  0.8092077975943592\n",
      "F1-Score:  0.6667236223835968\n",
      "Loss: 0.1558 Lr: 0.0002\n",
      "===========End of Epoch 1=============\n",
      "Epoch 2/59\n",
      "----------\n"
     ]
    },
    {
     "name": "stderr",
     "output_type": "stream",
     "text": [
      "100%|███████████████████████████████████████████████████████████████████████████████| 1620/1620 [08:05<00:00,  3.33it/s]\n"
     ]
    },
    {
     "name": "stdout",
     "output_type": "stream",
     "text": [
      "Stage train\n",
      "Specificity:  0.9851938185271518\n",
      "Sensitivity:  0.6034858387799564\n",
      "Precision:  0.8289276807980049\n",
      "F1-Score:  0.6984660642992224\n",
      "Loss: 0.1584 Lr: 0.0002\n"
     ]
    },
    {
     "name": "stderr",
     "output_type": "stream",
     "text": [
      "100%|█████████████████████████████████████████████████████████████████████████████████| 405/405 [00:53<00:00,  7.62it/s]\n"
     ]
    },
    {
     "name": "stdout",
     "output_type": "stream",
     "text": [
      "Stage val\n",
      "Specificity:  0.9839422612058843\n",
      "Sensitivity:  0.6220220801859384\n",
      "Precision:  0.8215656178050652\n",
      "F1-Score:  0.7080026455026455\n",
      "Loss: 0.1468 Lr: 0.0002\n",
      "===========End of Epoch 2=============\n",
      "Epoch 3/59\n",
      "----------\n"
     ]
    },
    {
     "name": "stderr",
     "output_type": "stream",
     "text": [
      "100%|███████████████████████████████████████████████████████████████████████████████| 1620/1620 [08:03<00:00,  3.35it/s]\n"
     ]
    },
    {
     "name": "stdout",
     "output_type": "stream",
     "text": [
      "Stage train\n",
      "Specificity:  0.9853026869537067\n",
      "Sensitivity:  0.63905540417802\n",
      "Precision:  0.837818528221005\n",
      "F1-Score:  0.7250618301731245\n",
      "Loss: 0.1462 Lr: 0.0002\n"
     ]
    },
    {
     "name": "stderr",
     "output_type": "stream",
     "text": [
      "100%|█████████████████████████████████████████████████████████████████████████████████| 405/405 [00:52<00:00,  7.67it/s]\n"
     ]
    },
    {
     "name": "stdout",
     "output_type": "stream",
     "text": [
      "Stage val\n",
      "Specificity:  0.9870851894057115\n",
      "Sensitivity:  0.6246730601569311\n",
      "Precision:  0.851793144442243\n",
      "F1-Score:  0.720764523430296\n",
      "Loss: 0.1426 Lr: 0.0002\n",
      "===========End of Epoch 3=============\n",
      "Epoch 4/59\n",
      "----------\n"
     ]
    },
    {
     "name": "stderr",
     "output_type": "stream",
     "text": [
      "100%|███████████████████████████████████████████████████████████████████████████████| 1620/1620 [08:05<00:00,  3.34it/s]\n"
     ]
    },
    {
     "name": "stdout",
     "output_type": "stream",
     "text": [
      "Stage train\n",
      "Specificity:  0.9855607355607355\n",
      "Sensitivity:  0.6717501815541032\n",
      "Precision:  0.8468757152666514\n",
      "F1-Score:  0.7492153487901184\n",
      "Loss: 0.1353 Lr: 0.0002\n"
     ]
    },
    {
     "name": "stderr",
     "output_type": "stream",
     "text": [
      "100%|█████████████████████████████████████████████████████████████████████████████████| 405/405 [00:53<00:00,  7.62it/s]\n"
     ]
    },
    {
     "name": "stdout",
     "output_type": "stream",
     "text": [
      "Stage val\n",
      "Specificity:  0.9842185233786864\n",
      "Sensitivity:  0.6837594421847762\n",
      "Precision:  0.8373954812310976\n",
      "F1-Score:  0.7528188724510196\n",
      "Loss: 0.1341 Lr: 0.0002\n",
      "===========End of Epoch 4=============\n",
      "Epoch 5/59\n",
      "----------\n"
     ]
    },
    {
     "name": "stderr",
     "output_type": "stream",
     "text": [
      "100%|███████████████████████████████████████████████████████████████████████████████| 1620/1620 [08:05<00:00,  3.34it/s]\n"
     ]
    },
    {
     "name": "stdout",
     "output_type": "stream",
     "text": [
      "Stage train\n",
      "Specificity:  0.985280787326801\n",
      "Sensitivity:  0.6781692698873956\n",
      "Precision:  0.8455615942028986\n",
      "F1-Score:  0.7526708324934489\n",
      "Loss: 0.1300 Lr: 0.0002\n"
     ]
    },
    {
     "name": "stderr",
     "output_type": "stream",
     "text": [
      "100%|█████████████████████████████████████████████████████████████████████████████████| 405/405 [00:53<00:00,  7.61it/s]\n"
     ]
    },
    {
     "name": "stdout",
     "output_type": "stream",
     "text": [
      "Stage val\n",
      "Specificity:  0.9814220104285369\n",
      "Sensitivity:  0.6984888113920372\n",
      "Precision:  0.8171001189869115\n",
      "F1-Score:  0.7531531531531531\n",
      "Loss: 0.1423 Lr: 0.0002\n",
      "===========End of Epoch 5=============\n",
      "Epoch 6/59\n",
      "----------\n"
     ]
    },
    {
     "name": "stderr",
     "output_type": "stream",
     "text": [
      "100%|███████████████████████████████████████████████████████████████████████████████| 1620/1620 [08:05<00:00,  3.34it/s]\n"
     ]
    },
    {
     "name": "stdout",
     "output_type": "stream",
     "text": [
      "Stage train\n",
      "Specificity:  0.9866617745451406\n",
      "Sensitivity:  0.6991102233520974\n",
      "Precision:  0.8616830796777082\n",
      "F1-Score:  0.7719298245614035\n",
      "Loss: 0.1223 Lr: 0.0002\n"
     ]
    },
    {
     "name": "stderr",
     "output_type": "stream",
     "text": [
      "100%|█████████████████████████████████████████████████████████████████████████████████| 405/405 [00:52<00:00,  7.71it/s]\n"
     ]
    },
    {
     "name": "stdout",
     "output_type": "stream",
     "text": [
      "Stage val\n",
      "Specificity:  0.9869295716283647\n",
      "Sensitivity:  0.7020194682551213\n",
      "Precision:  0.8645553766326713\n",
      "F1-Score:  0.7748556767158434\n",
      "Loss: 0.1145 Lr: 0.0002\n",
      "===========End of Epoch 6=============\n",
      "Epoch 7/59\n",
      "----------\n"
     ]
    },
    {
     "name": "stderr",
     "output_type": "stream",
     "text": [
      "100%|███████████████████████████████████████████████████████████████████████████████| 1620/1620 [08:05<00:00,  3.34it/s]\n"
     ]
    },
    {
     "name": "stdout",
     "output_type": "stream",
     "text": [
      "Stage train\n",
      "Specificity:  0.9860145897181336\n",
      "Sensitivity:  0.7144932800581184\n",
      "Precision:  0.8585770405936273\n",
      "F1-Score:  0.7799365582870738\n",
      "Loss: 0.1164 Lr: 0.0002\n"
     ]
    },
    {
     "name": "stderr",
     "output_type": "stream",
     "text": [
      "100%|█████████████████████████████████████████████████████████████████████████████████| 405/405 [00:53<00:00,  7.56it/s]\n"
     ]
    },
    {
     "name": "stdout",
     "output_type": "stream",
     "text": [
      "Stage val\n",
      "Specificity:  0.9854449393970787\n",
      "Sensitivity:  0.7201394943330427\n",
      "Precision:  0.8546301086394206\n",
      "F1-Score:  0.7816418263543884\n",
      "Loss: 0.1176 Lr: 0.0002\n",
      "===========End of Epoch 7=============\n",
      "Epoch 8/59\n",
      "----------\n"
     ]
    },
    {
     "name": "stderr",
     "output_type": "stream",
     "text": [
      "100%|███████████████████████████████████████████████████████████████████████████████| 1620/1620 [08:04<00:00,  3.34it/s]\n"
     ]
    },
    {
     "name": "stdout",
     "output_type": "stream",
     "text": [
      "Stage train\n",
      "Specificity:  0.9857337103144627\n",
      "Sensitivity:  0.7190848011621572\n",
      "Precision:  0.8569573685349492\n",
      "F1-Score:  0.7819905213270143\n",
      "Loss: 0.1141 Lr: 0.0002\n"
     ]
    },
    {
     "name": "stderr",
     "output_type": "stream",
     "text": [
      "100%|█████████████████████████████████████████████████████████████████████████████████| 405/405 [00:53<00:00,  7.59it/s]\n"
     ]
    },
    {
     "name": "stdout",
     "output_type": "stream",
     "text": [
      "Stage val\n",
      "Specificity:  0.9860487602734995\n",
      "Sensitivity:  0.721382916908774\n",
      "Precision:  0.8600623484586075\n",
      "F1-Score:  0.784642123558224\n",
      "Loss: 0.1139 Lr: 0.0002\n",
      "===========End of Epoch 8=============\n",
      "Epoch 9/59\n",
      "----------\n"
     ]
    },
    {
     "name": "stderr",
     "output_type": "stream",
     "text": [
      "100%|███████████████████████████████████████████████████████████████████████████████| 1620/1620 [08:05<00:00,  3.34it/s]\n"
     ]
    },
    {
     "name": "stdout",
     "output_type": "stream",
     "text": [
      "Stage train\n",
      "Specificity:  0.9859711220944035\n",
      "Sensitivity:  0.742327946250227\n",
      "Precision:  0.8628113127902068\n",
      "F1-Score:  0.7980478282088824\n",
      "Loss: 0.1079 Lr: 0.0002\n"
     ]
    },
    {
     "name": "stderr",
     "output_type": "stream",
     "text": [
      "100%|█████████████████████████████████████████████████████████████████████████████████| 405/405 [00:53<00:00,  7.55it/s]\n"
     ]
    },
    {
     "name": "stdout",
     "output_type": "stream",
     "text": [
      "Stage val\n",
      "Specificity:  0.9866187820501753\n",
      "Sensitivity:  0.7422635478715677\n",
      "Precision:  0.8682868796736913\n",
      "F1-Score:  0.8003446385211873\n",
      "Loss: 0.1041 Lr: 0.0002\n",
      "===========End of Epoch 9=============\n",
      "Epoch 10/59\n",
      "----------\n"
     ]
    },
    {
     "name": "stderr",
     "output_type": "stream",
     "text": [
      "100%|███████████████████████████████████████████████████████████████████████████████| 1620/1620 [08:06<00:00,  3.33it/s]\n"
     ]
    },
    {
     "name": "stdout",
     "output_type": "stream",
     "text": [
      "Stage train\n",
      "Specificity:  0.9856689616472061\n",
      "Sensitivity:  0.7439622298892319\n",
      "Precision:  0.8605335013652594\n",
      "F1-Score:  0.7980132450331127\n",
      "Loss: 0.1063 Lr: 0.0002\n"
     ]
    },
    {
     "name": "stderr",
     "output_type": "stream",
     "text": [
      "100%|█████████████████████████████████████████████████████████████████████████████████| 405/405 [00:53<00:00,  7.64it/s]\n"
     ]
    },
    {
     "name": "stdout",
     "output_type": "stream",
     "text": [
      "Stage val\n",
      "Specificity:  0.9852372401408938\n",
      "Sensitivity:  0.7470947123765252\n",
      "Precision:  0.8574524841613871\n",
      "F1-Score:  0.7984784971277752\n",
      "Loss: 0.1092 Lr: 0.0002\n",
      "===========End of Epoch 10=============\n",
      "Epoch 11/59\n",
      "----------\n"
     ]
    },
    {
     "name": "stderr",
     "output_type": "stream",
     "text": [
      "100%|███████████████████████████████████████████████████████████████████████████████| 1620/1620 [08:06<00:00,  3.33it/s]\n"
     ]
    },
    {
     "name": "stdout",
     "output_type": "stream",
     "text": [
      "Stage train\n",
      "Specificity:  0.9866830700164033\n",
      "Sensitivity:  0.7527233115468409\n",
      "Precision:  0.8704597942473231\n",
      "F1-Score:  0.8073215850452731\n",
      "Loss: 0.1038 Lr: 0.0002\n"
     ]
    },
    {
     "name": "stderr",
     "output_type": "stream",
     "text": [
      "100%|█████████████████████████████████████████████████████████████████████████████████| 405/405 [00:53<00:00,  7.58it/s]\n"
     ]
    },
    {
     "name": "stdout",
     "output_type": "stream",
     "text": [
      "Stage val\n",
      "Specificity:  0.986497919436435\n",
      "Sensitivity:  0.7509806770303646\n",
      "Precision:  0.8685935136951772\n",
      "F1-Score:  0.8055165965404394\n",
      "Loss: 0.1081 Lr: 0.0002\n",
      "===========End of Epoch 11=============\n",
      "Epoch 12/59\n",
      "----------\n"
     ]
    },
    {
     "name": "stderr",
     "output_type": "stream",
     "text": [
      "100%|███████████████████████████████████████████████████████████████████████████████| 1620/1620 [08:07<00:00,  3.32it/s]\n"
     ]
    },
    {
     "name": "stdout",
     "output_type": "stream",
     "text": [
      "Stage train\n",
      "Specificity:  0.986920486920487\n",
      "Sensitivity:  0.7598039215686274\n",
      "Precision:  0.873512836568566\n",
      "F1-Score:  0.8127002621613749\n",
      "Loss: 0.0995 Lr: 0.0002\n"
     ]
    },
    {
     "name": "stderr",
     "output_type": "stream",
     "text": [
      "100%|█████████████████████████████████████████████████████████████████████████████████| 405/405 [00:53<00:00,  7.61it/s]\n"
     ]
    },
    {
     "name": "stdout",
     "output_type": "stream",
     "text": [
      "Stage val\n",
      "Specificity:  0.9859967193300526\n",
      "Sensitivity:  0.7670297748729121\n",
      "Precision:  0.8668745896257387\n",
      "F1-Score:  0.8139015180704323\n",
      "Loss: 0.1020 Lr: 0.0002\n",
      "===========End of Epoch 12=============\n",
      "Epoch 13/59\n",
      "----------\n"
     ]
    },
    {
     "name": "stderr",
     "output_type": "stream",
     "text": [
      "100%|███████████████████████████████████████████████████████████████████████████████| 1620/1620 [08:05<00:00,  3.34it/s]\n"
     ]
    },
    {
     "name": "stdout",
     "output_type": "stream",
     "text": [
      "Stage train\n",
      "Specificity:  0.9868341535008202\n",
      "Sensitivity:  0.7670660856935366\n",
      "Precision:  0.8738366080661841\n",
      "F1-Score:  0.8169776660543362\n",
      "Loss: 0.0966 Lr: 0.0002\n"
     ]
    },
    {
     "name": "stderr",
     "output_type": "stream",
     "text": [
      "100%|█████████████████████████████████████████████████████████████████████████████████| 405/405 [00:53<00:00,  7.59it/s]\n"
     ]
    },
    {
     "name": "stdout",
     "output_type": "stream",
     "text": [
      "Stage val\n",
      "Specificity:  0.9878617307825126\n",
      "Sensitivity:  0.7553747821034282\n",
      "Precision:  0.8809080128748095\n",
      "F1-Score:  0.8133260342535388\n",
      "Loss: 0.1055 Lr: 0.0002\n",
      "===========End of Epoch 13=============\n",
      "Epoch 14/59\n",
      "----------\n"
     ]
    },
    {
     "name": "stderr",
     "output_type": "stream",
     "text": [
      "100%|███████████████████████████████████████████████████████████████████████████████| 1620/1620 [08:14<00:00,  3.27it/s]\n"
     ]
    },
    {
     "name": "stdout",
     "output_type": "stream",
     "text": [
      "Stage train\n",
      "Specificity:  0.987848833444845\n",
      "Sensitivity:  0.7824586889413474\n",
      "Precision:  0.8844417077175698\n",
      "F1-Score:  0.8303304749975913\n",
      "Loss: 0.0932 Lr: 0.0002\n"
     ]
    },
    {
     "name": "stderr",
     "output_type": "stream",
     "text": [
      "100%|█████████████████████████████████████████████████████████████████████████████████| 405/405 [00:53<00:00,  7.58it/s]\n"
     ]
    },
    {
     "name": "stdout",
     "output_type": "stream",
     "text": [
      "Stage val\n",
      "Specificity:  0.9878099316251122\n",
      "Sensitivity:  0.7733875653689716\n",
      "Precision:  0.8829187396351575\n",
      "F1-Score:  0.8245315161839865\n",
      "Loss: 0.1106 Lr: 0.0002\n",
      "===========End of Epoch 14=============\n",
      "Epoch 15/59\n",
      "----------\n"
     ]
    },
    {
     "name": "stderr",
     "output_type": "stream",
     "text": [
      "100%|███████████████████████████████████████████████████████████████████████████████| 1620/1620 [08:08<00:00,  3.32it/s]\n"
     ]
    },
    {
     "name": "stdout",
     "output_type": "stream",
     "text": [
      "Stage train\n",
      "Specificity:  0.9871147371147371\n",
      "Sensitivity:  0.7855846042120552\n",
      "Precision:  0.878757108042242\n",
      "F1-Score:  0.8295628834355829\n",
      "Loss: 0.0910 Lr: 0.0002\n"
     ]
    },
    {
     "name": "stderr",
     "output_type": "stream",
     "text": [
      "100%|█████████████████████████████████████████████████████████████████████████████████| 405/405 [00:54<00:00,  7.48it/s]\n"
     ]
    },
    {
     "name": "stdout",
     "output_type": "stream",
     "text": [
      "Stage val\n",
      "Specificity:  0.9877406544073211\n",
      "Sensitivity:  0.7780682643427741\n",
      "Precision:  0.8829734629965387\n",
      "F1-Score:  0.8272081531809758\n",
      "Loss: 0.0981 Lr: 0.0002\n",
      "===========End of Epoch 15=============\n",
      "Epoch 16/59\n",
      "----------\n"
     ]
    },
    {
     "name": "stderr",
     "output_type": "stream",
     "text": [
      "100%|███████████████████████████████████████████████████████████████████████████████| 1620/1620 [08:07<00:00,  3.32it/s]\n"
     ]
    },
    {
     "name": "stdout",
     "output_type": "stream",
     "text": [
      "Stage train\n",
      "Specificity:  0.9875250901085619\n",
      "Sensitivity:  0.7873615398583621\n",
      "Precision:  0.8823768823768824\n",
      "F1-Score:  0.832165819019288\n",
      "Loss: 0.0881 Lr: 0.0002\n"
     ]
    },
    {
     "name": "stderr",
     "output_type": "stream",
     "text": [
      "100%|█████████████████████████████████████████████████████████████████████████████████| 405/405 [00:53<00:00,  7.59it/s]\n"
     ]
    },
    {
     "name": "stdout",
     "output_type": "stream",
     "text": [
      "Stage val\n",
      "Specificity:  0.9879825954831135\n",
      "Sensitivity:  0.7796339337594422\n",
      "Precision:  0.8852053438891638\n",
      "F1-Score:  0.8290723719780645\n",
      "Loss: 0.0966 Lr: 0.0002\n",
      "===========End of Epoch 16=============\n",
      "Epoch 17/59\n",
      "----------\n"
     ]
    },
    {
     "name": "stderr",
     "output_type": "stream",
     "text": [
      "100%|███████████████████████████████████████████████████████████████████████████████| 1620/1620 [08:07<00:00,  3.32it/s]\n"
     ]
    },
    {
     "name": "stdout",
     "output_type": "stream",
     "text": [
      "Stage train\n",
      "Specificity:  0.9875895709229042\n",
      "Sensitivity:  0.7973856209150327\n",
      "Precision:  0.8842359573183007\n",
      "F1-Score:  0.8385680190930788\n",
      "Loss: 0.0860 Lr: 0.0002\n"
     ]
    },
    {
     "name": "stderr",
     "output_type": "stream",
     "text": [
      "100%|█████████████████████████████████████████████████████████████████████████████████| 405/405 [00:51<00:00,  7.81it/s]\n"
     ]
    },
    {
     "name": "stdout",
     "output_type": "stream",
     "text": [
      "Stage val\n",
      "Specificity:  0.9860657860657861\n",
      "Sensitivity:  0.80479302832244\n",
      "Precision:  0.8728733459357277\n",
      "F1-Score:  0.8374518249829969\n",
      "Loss: 0.1034 Lr: 0.0002\n",
      "===========End of Epoch 17=============\n",
      "Epoch 18/59\n",
      "----------\n"
     ]
    },
    {
     "name": "stderr",
     "output_type": "stream",
     "text": [
      "100%|███████████████████████████████████████████████████████████████████████████████| 1620/1620 [08:10<00:00,  3.30it/s]\n"
     ]
    },
    {
     "name": "stdout",
     "output_type": "stream",
     "text": [
      "Stage train\n",
      "Specificity:  0.9872016229982302\n",
      "Sensitivity:  0.803668725027243\n",
      "Precision:  0.8818254284575529\n",
      "F1-Score:  0.8409350057012543\n",
      "Loss: 0.0833 Lr: 0.0002\n"
     ]
    },
    {
     "name": "stderr",
     "output_type": "stream",
     "text": [
      "100%|█████████████████████████████████████████████████████████████████████████████████| 405/405 [00:49<00:00,  8.18it/s]\n"
     ]
    },
    {
     "name": "stdout",
     "output_type": "stream",
     "text": [
      "Stage val\n",
      "Specificity:  0.9871194985928139\n",
      "Sensitivity:  0.8003777422635479\n",
      "Precision:  0.8807354116706635\n",
      "F1-Score:  0.8386360176586999\n",
      "Loss: 0.0970 Lr: 0.0002\n",
      "===========End of Epoch 18=============\n",
      "Epoch 19/59\n",
      "----------\n"
     ]
    },
    {
     "name": "stderr",
     "output_type": "stream",
     "text": [
      "100%|███████████████████████████████████████████████████████████████████████████████| 1620/1620 [08:11<00:00,  3.30it/s]\n"
     ]
    },
    {
     "name": "stdout",
     "output_type": "stream",
     "text": [
      "Stage train\n",
      "Specificity:  0.9880430794466147\n",
      "Sensitivity:  0.8102415108044307\n",
      "Precision:  0.8895534290271132\n",
      "F1-Score:  0.848047134847477\n",
      "Loss: 0.0827 Lr: 0.0002\n"
     ]
    },
    {
     "name": "stderr",
     "output_type": "stream",
     "text": [
      "100%|█████████████████████████████████████████████████████████████████████████████████| 405/405 [00:49<00:00,  8.17it/s]\n"
     ]
    },
    {
     "name": "stdout",
     "output_type": "stream",
     "text": [
      "Stage val\n",
      "Specificity:  0.987222874507908\n",
      "Sensitivity:  0.8098489250435793\n",
      "Precision:  0.882818685669042\n",
      "F1-Score:  0.8447609667399045\n",
      "Loss: 0.0945 Lr: 0.0002\n",
      "===========End of Epoch 19=============\n",
      "Epoch 20/59\n",
      "----------\n"
     ]
    },
    {
     "name": "stderr",
     "output_type": "stream",
     "text": [
      "100%|███████████████████████████████████████████████████████████████████████████████| 1620/1620 [08:10<00:00,  3.31it/s]\n"
     ]
    },
    {
     "name": "stdout",
     "output_type": "stream",
     "text": [
      "Stage train\n",
      "Specificity:  0.9878917378917379\n",
      "Sensitivity:  0.8182643427741467\n",
      "Precision:  0.8893054459352802\n",
      "F1-Score:  0.8523071104387292\n",
      "Loss: 0.0796 Lr: 0.0002\n"
     ]
    },
    {
     "name": "stderr",
     "output_type": "stream",
     "text": [
      "100%|█████████████████████████████████████████████████████████████████████████████████| 405/405 [00:49<00:00,  8.11it/s]\n"
     ]
    },
    {
     "name": "stdout",
     "output_type": "stream",
     "text": [
      "Stage val\n",
      "Specificity:  0.9877233877233877\n",
      "Sensitivity:  0.8095860566448801\n",
      "Precision:  0.886873508353222\n",
      "F1-Score:  0.8464692482915719\n",
      "Loss: 0.0932 Lr: 0.0002\n",
      "===========End of Epoch 20=============\n",
      "Epoch 21/59\n",
      "----------\n"
     ]
    },
    {
     "name": "stderr",
     "output_type": "stream",
     "text": [
      "100%|███████████████████████████████████████████████████████████████████████████████| 1620/1620 [08:09<00:00,  3.31it/s]\n"
     ]
    },
    {
     "name": "stdout",
     "output_type": "stream",
     "text": [
      "Stage train\n",
      "Specificity:  0.9871794871794872\n",
      "Sensitivity:  0.8144517066085694\n",
      "Precision:  0.8830708661417322\n",
      "F1-Score:  0.8473743860974687\n",
      "Loss: 0.0777 Lr: 0.0002\n"
     ]
    },
    {
     "name": "stderr",
     "output_type": "stream",
     "text": [
      "100%|█████████████████████████████████████████████████████████████████████████████████| 405/405 [00:52<00:00,  7.72it/s]\n"
     ]
    },
    {
     "name": "stdout",
     "output_type": "stream",
     "text": [
      "Stage val\n",
      "Specificity:  0.983993783993784\n",
      "Sensitivity:  0.8255628177196804\n",
      "Precision:  0.8597791559522009\n",
      "F1-Score:  0.8423236514522822\n",
      "Loss: 0.1016 Lr: 0.0002\n",
      "===========End of Epoch 21=============\n",
      "Epoch 22/59\n",
      "----------\n"
     ]
    },
    {
     "name": "stderr",
     "output_type": "stream",
     "text": [
      "100%|███████████████████████████████████████████████████████████████████████████████| 1620/1620 [08:07<00:00,  3.32it/s]\n"
     ]
    },
    {
     "name": "stdout",
     "output_type": "stream",
     "text": [
      "Stage train\n",
      "Specificity:  0.9882807441619545\n",
      "Sensitivity:  0.8241917907737014\n",
      "Precision:  0.8931312733713835\n",
      "F1-Score:  0.8572777935203552\n",
      "Loss: 0.0758 Lr: 0.0002\n"
     ]
    },
    {
     "name": "stderr",
     "output_type": "stream",
     "text": [
      "100%|█████████████████████████████████████████████████████████████████████████████████| 405/405 [00:53<00:00,  7.59it/s]\n"
     ]
    },
    {
     "name": "stdout",
     "output_type": "stream",
     "text": [
      "Stage val\n",
      "Specificity:  0.9854104078179495\n",
      "Sensitivity:  0.8311537343795409\n",
      "Precision:  0.8712871287128713\n",
      "F1-Score:  0.8507473785974567\n",
      "Loss: 0.1066 Lr: 0.0002\n",
      "===========End of Epoch 22=============\n",
      "Epoch 23/59\n",
      "----------\n"
     ]
    },
    {
     "name": "stderr",
     "output_type": "stream",
     "text": [
      "100%|███████████████████████████████████████████████████████████████████████████████| 1620/1620 [08:07<00:00,  3.32it/s]\n"
     ]
    },
    {
     "name": "stdout",
     "output_type": "stream",
     "text": [
      "Stage train\n",
      "Specificity:  0.988215742559299\n",
      "Sensitivity:  0.8293081532594879\n",
      "Precision:  0.893213377664776\n",
      "F1-Score:  0.8600753295668548\n",
      "Loss: 0.0743 Lr: 0.0002\n"
     ]
    },
    {
     "name": "stderr",
     "output_type": "stream",
     "text": [
      "100%|█████████████████████████████████████████████████████████████████████████████████| 405/405 [00:52<00:00,  7.68it/s]\n"
     ]
    },
    {
     "name": "stdout",
     "output_type": "stream",
     "text": [
      "Stage val\n",
      "Specificity:  0.9862736972961773\n",
      "Sensitivity:  0.8349317058994479\n",
      "Precision:  0.8784589512306986\n",
      "F1-Score:  0.8561424420770319\n",
      "Loss: 0.0955 Lr: 0.0002\n",
      "===========End of Epoch 23=============\n",
      "Epoch 24/59\n",
      "----------\n"
     ]
    },
    {
     "name": "stderr",
     "output_type": "stream",
     "text": [
      "100%|███████████████████████████████████████████████████████████████████████████████| 1620/1620 [08:06<00:00,  3.33it/s]\n"
     ]
    },
    {
     "name": "stdout",
     "output_type": "stream",
     "text": [
      "Stage train\n",
      "Specificity:  0.9889497992834635\n",
      "Sensitivity:  0.8376316745368688\n",
      "Precision:  0.9000780640124902\n",
      "F1-Score:  0.8677328316086547\n",
      "Loss: 0.0718 Lr: 0.0002\n"
     ]
    },
    {
     "name": "stderr",
     "output_type": "stream",
     "text": [
      "100%|█████████████████████████████████████████████████████████████████████████████████| 405/405 [00:53<00:00,  7.57it/s]\n"
     ]
    },
    {
     "name": "stdout",
     "output_type": "stream",
     "text": [
      "Stage val\n",
      "Specificity:  0.9887943090975015\n",
      "Sensitivity:  0.8233328490483801\n",
      "Precision:  0.8972450918302723\n",
      "F1-Score:  0.8587014167739981\n",
      "Loss: 0.0984 Lr: 0.0002\n",
      "===========End of Epoch 24=============\n",
      "Epoch 25/59\n",
      "----------\n"
     ]
    },
    {
     "name": "stderr",
     "output_type": "stream",
     "text": [
      "100%|███████████████████████████████████████████████████████████████████████████████| 1620/1620 [08:07<00:00,  3.32it/s]\n"
     ]
    },
    {
     "name": "stdout",
     "output_type": "stream",
     "text": [
      "Stage train\n",
      "Specificity:  0.9892948870135756\n",
      "Sensitivity:  0.8363900490285092\n",
      "Precision:  0.9027832222657781\n",
      "F1-Score:  0.8683193514940145\n",
      "Loss: 0.0700 Lr: 0.0002\n"
     ]
    },
    {
     "name": "stderr",
     "output_type": "stream",
     "text": [
      "100%|█████████████████████████████████████████████████████████████████████████████████| 405/405 [00:53<00:00,  7.51it/s]\n"
     ]
    },
    {
     "name": "stdout",
     "output_type": "stream",
     "text": [
      "Stage val\n",
      "Specificity:  0.9877756099245472\n",
      "Sensitivity:  0.8374255411884353\n",
      "Precision:  0.8906056860321384\n",
      "F1-Score:  0.8631973043803819\n",
      "Loss: 0.0936 Lr: 0.0002\n",
      "===========End of Epoch 25=============\n",
      "Epoch 26/59\n",
      "----------\n"
     ]
    },
    {
     "name": "stderr",
     "output_type": "stream",
     "text": [
      "100%|███████████████████████████████████████████████████████████████████████████████| 1620/1620 [08:04<00:00,  3.34it/s]\n"
     ]
    },
    {
     "name": "stdout",
     "output_type": "stream",
     "text": [
      "Stage train\n",
      "Specificity:  0.9891656235162084\n",
      "Sensitivity:  0.847439157282964\n",
      "Precision:  0.9028637770897833\n",
      "F1-Score:  0.8742739366685404\n",
      "Loss: 0.0689 Lr: 0.0002\n"
     ]
    },
    {
     "name": "stderr",
     "output_type": "stream",
     "text": [
      "100%|█████████████████████████████████████████████████████████████████████████████████| 405/405 [00:53<00:00,  7.59it/s]\n"
     ]
    },
    {
     "name": "stdout",
     "output_type": "stream",
     "text": [
      "Stage val\n",
      "Specificity:  0.9883108586425402\n",
      "Sensitivity:  0.8387331105622549\n",
      "Precision:  0.8950387596899225\n",
      "F1-Score:  0.8659716492912324\n",
      "Loss: 0.0943 Lr: 0.0002\n",
      "===========End of Epoch 26=============\n",
      "Epoch 27/59\n",
      "----------\n"
     ]
    },
    {
     "name": "stderr",
     "output_type": "stream",
     "text": [
      "100%|███████████████████████████████████████████████████████████████████████████████| 1620/1620 [08:07<00:00,  3.32it/s]\n"
     ]
    },
    {
     "name": "stdout",
     "output_type": "stream",
     "text": [
      "Stage train\n",
      "Specificity:  0.9895754645716875\n",
      "Sensitivity:  0.8463773379335391\n",
      "Precision:  0.906104199066874\n",
      "F1-Score:  0.8752229837573937\n",
      "Loss: 0.0654 Lr: 0.0002\n"
     ]
    },
    {
     "name": "stderr",
     "output_type": "stream",
     "text": [
      "100%|█████████████████████████████████████████████████████████████████████████████████| 405/405 [00:52<00:00,  7.66it/s]\n"
     ]
    },
    {
     "name": "stdout",
     "output_type": "stream",
     "text": [
      "Stage val\n",
      "Specificity:  0.9891049105601215\n",
      "Sensitivity:  0.8341080766995933\n",
      "Precision:  0.900988545426016\n",
      "F1-Score:  0.8662593346911067\n",
      "Loss: 0.0963 Lr: 0.0002\n",
      "===========End of Epoch 27=============\n",
      "Epoch 28/59\n",
      "----------\n"
     ]
    },
    {
     "name": "stderr",
     "output_type": "stream",
     "text": [
      "100%|███████████████████████████████████████████████████████████████████████████████| 1620/1620 [08:08<00:00,  3.31it/s]\n"
     ]
    },
    {
     "name": "stdout",
     "output_type": "stream",
     "text": [
      "Stage train\n",
      "Specificity:  0.989510715904431\n",
      "Sensitivity:  0.853640820773561\n",
      "Precision:  0.9063042220936958\n",
      "F1-Score:  0.8791845894894333\n",
      "Loss: 0.0635 Lr: 0.0002\n"
     ]
    },
    {
     "name": "stderr",
     "output_type": "stream",
     "text": [
      "100%|█████████████████████████████████████████████████████████████████████████████████| 405/405 [00:53<00:00,  7.62it/s]\n"
     ]
    },
    {
     "name": "stdout",
     "output_type": "stream",
     "text": [
      "Stage val\n",
      "Specificity:  0.987223315722228\n",
      "Sensitivity:  0.8528044173205463\n",
      "Precision:  0.8880314722348313\n",
      "F1-Score:  0.8700615224964792\n",
      "Loss: 0.0913 Lr: 0.0002\n",
      "===========End of Epoch 28=============\n",
      "Epoch 29/59\n",
      "----------\n"
     ]
    },
    {
     "name": "stderr",
     "output_type": "stream",
     "text": [
      "100%|███████████████████████████████████████████████████████████████████████████████| 1620/1620 [08:12<00:00,  3.29it/s]\n"
     ]
    },
    {
     "name": "stdout",
     "output_type": "stream",
     "text": [
      "Stage train\n",
      "Specificity:  0.9890574752336347\n",
      "Sensitivity:  0.8607227165425821\n",
      "Precision:  0.9033733562035449\n",
      "F1-Score:  0.8815324530407289\n",
      "Loss: 0.0635 Lr: 0.0002\n"
     ]
    },
    {
     "name": "stderr",
     "output_type": "stream",
     "text": [
      "100%|█████████████████████████████████████████████████████████████████████████████████| 405/405 [00:53<00:00,  7.59it/s]\n"
     ]
    },
    {
     "name": "stdout",
     "output_type": "stream",
     "text": [
      "Stage val\n",
      "Specificity:  0.9859278955728987\n",
      "Sensitivity:  0.8561882626380012\n",
      "Precision:  0.8785213891787151\n",
      "F1-Score:  0.8672110645185022\n",
      "Loss: 0.1100 Lr: 0.0002\n",
      "===========End of Epoch 29=============\n",
      "Epoch 30/59\n",
      "----------\n"
     ]
    },
    {
     "name": "stderr",
     "output_type": "stream",
     "text": [
      "100%|███████████████████████████████████████████████████████████████████████████████| 1620/1620 [08:04<00:00,  3.34it/s]\n"
     ]
    },
    {
     "name": "stdout",
     "output_type": "stream",
     "text": [
      "Stage train\n",
      "Specificity:  0.9892960421252536\n",
      "Sensitivity:  0.8607778989458379\n",
      "Precision:  0.9051987767584098\n",
      "F1-Score:  0.8824296627538663\n",
      "Loss: 0.0622 Lr: 0.0002\n"
     ]
    },
    {
     "name": "stderr",
     "output_type": "stream",
     "text": [
      "100%|█████████████████████████████████████████████████████████████████████████████████| 405/405 [00:54<00:00,  7.48it/s]\n"
     ]
    },
    {
     "name": "stdout",
     "output_type": "stream",
     "text": [
      "Stage val\n",
      "Specificity:  0.9881564863091744\n",
      "Sensitivity:  0.8517010758941552\n",
      "Precision:  0.8951711491442543\n",
      "F1-Score:  0.8728952466100433\n",
      "Loss: 0.0961 Lr: 0.0002\n",
      "===========End of Epoch 30=============\n",
      "Epoch 31/59\n",
      "----------\n"
     ]
    },
    {
     "name": "stderr",
     "output_type": "stream",
     "text": [
      "100%|███████████████████████████████████████████████████████████████████████████████| 1620/1620 [08:06<00:00,  3.33it/s]\n"
     ]
    },
    {
     "name": "stdout",
     "output_type": "stream",
     "text": [
      "Stage train\n",
      "Specificity:  0.9892944248990957\n",
      "Sensitivity:  0.8633145761481212\n",
      "Precision:  0.9055597867479056\n",
      "F1-Score:  0.8839327200074343\n",
      "Loss: 0.0622 Lr: 0.0002\n"
     ]
    },
    {
     "name": "stderr",
     "output_type": "stream",
     "text": [
      "100%|█████████████████████████████████████████████████████████████████████████████████| 405/405 [00:53<00:00,  7.61it/s]\n"
     ]
    },
    {
     "name": "stdout",
     "output_type": "stream",
     "text": [
      "Stage val\n",
      "Specificity:  0.9888109956141865\n",
      "Sensitivity:  0.8482428115015974\n",
      "Precision:  0.9001386962552012\n",
      "F1-Score:  0.8734205607476635\n",
      "Loss: 0.0941 Lr: 0.0002\n",
      "===========End of Epoch 31=============\n",
      "Epoch 32/59\n",
      "----------\n"
     ]
    },
    {
     "name": "stderr",
     "output_type": "stream",
     "text": [
      "100%|███████████████████████████████████████████████████████████████████████████████| 1620/1620 [08:07<00:00,  3.32it/s]\n"
     ]
    },
    {
     "name": "stdout",
     "output_type": "stream",
     "text": [
      "Stage train\n",
      "Specificity:  0.9897912934625429\n",
      "Sensitivity:  0.8710731795896132\n",
      "Precision:  0.9102466793168881\n",
      "F1-Score:  0.8902291917973462\n",
      "Loss: 0.0588 Lr: 0.0002\n"
     ]
    },
    {
     "name": "stderr",
     "output_type": "stream",
     "text": [
      "100%|█████████████████████████████████████████████████████████████████████████████████| 405/405 [00:53<00:00,  7.62it/s]\n"
     ]
    },
    {
     "name": "stdout",
     "output_type": "stream",
     "text": [
      "Stage val\n",
      "Specificity:  0.9865497176994665\n",
      "Sensitivity:  0.8699694900479442\n",
      "Precision:  0.8848825181025565\n",
      "F1-Score:  0.8773626373626373\n",
      "Loss: 0.1040 Lr: 0.0002\n",
      "===========End of Epoch 32=============\n",
      "Epoch 33/59\n",
      "----------\n"
     ]
    },
    {
     "name": "stderr",
     "output_type": "stream",
     "text": [
      "100%|███████████████████████████████████████████████████████████████████████████████| 1620/1620 [08:07<00:00,  3.32it/s]\n"
     ]
    },
    {
     "name": "stdout",
     "output_type": "stream",
     "text": [
      "Stage train\n",
      "Specificity:  0.9904174040661285\n",
      "Sensitivity:  0.8795859062840538\n",
      "Precision:  0.9160204274635899\n",
      "F1-Score:  0.8974335217270454\n",
      "Loss: 0.0569 Lr: 0.0002\n"
     ]
    },
    {
     "name": "stderr",
     "output_type": "stream",
     "text": [
      "100%|█████████████████████████████████████████████████████████████████████████████████| 405/405 [00:53<00:00,  7.58it/s]\n"
     ]
    },
    {
     "name": "stdout",
     "output_type": "stream",
     "text": [
      "Stage val\n",
      "Specificity:  0.9888806395358876\n",
      "Sensitivity:  0.8698242045619643\n",
      "Precision:  0.9028804101945408\n",
      "F1-Score:  0.8860441024123131\n",
      "Loss: 0.0901 Lr: 0.0002\n",
      "===========End of Epoch 33=============\n",
      "Epoch 34/59\n",
      "----------\n"
     ]
    },
    {
     "name": "stderr",
     "output_type": "stream",
     "text": [
      "100%|███████████████████████████████████████████████████████████████████████████████| 1620/1620 [08:05<00:00,  3.34it/s]\n"
     ]
    },
    {
     "name": "stdout",
     "output_type": "stream",
     "text": [
      "Stage train\n",
      "Specificity:  0.990396028919823\n",
      "Sensitivity:  0.8782924613987284\n",
      "Precision:  0.915719696969697\n",
      "F1-Score:  0.8966156699119148\n",
      "Loss: 0.0541 Lr: 0.0002\n"
     ]
    },
    {
     "name": "stderr",
     "output_type": "stream",
     "text": [
      "100%|█████████████████████████████████████████████████████████████████████████████████| 405/405 [00:53<00:00,  7.55it/s]\n"
     ]
    },
    {
     "name": "stdout",
     "output_type": "stream",
     "text": [
      "Stage val\n",
      "Specificity:  0.9888808315204254\n",
      "Sensitivity:  0.8686428363847719\n",
      "Precision:  0.9027484143763214\n",
      "F1-Score:  0.8853672985781992\n",
      "Loss: 0.0939 Lr: 0.0002\n",
      "===========End of Epoch 34=============\n",
      "Epoch 35/59\n",
      "----------\n"
     ]
    },
    {
     "name": "stderr",
     "output_type": "stream",
     "text": [
      "100%|███████████████████████████████████████████████████████████████████████████████| 1620/1620 [08:07<00:00,  3.33it/s]\n"
     ]
    },
    {
     "name": "stdout",
     "output_type": "stream",
     "text": [
      "Stage train\n",
      "Specificity:  0.9904601571268238\n",
      "Sensitivity:  0.8838053740014524\n",
      "Precision:  0.9167608286252354\n",
      "F1-Score:  0.8999815122943243\n",
      "Loss: 0.0532 Lr: 0.0002\n"
     ]
    },
    {
     "name": "stderr",
     "output_type": "stream",
     "text": [
      "100%|█████████████████████████████████████████████████████████████████████████████████| 405/405 [00:53<00:00,  7.51it/s]\n"
     ]
    },
    {
     "name": "stdout",
     "output_type": "stream",
     "text": [
      "Stage val\n",
      "Specificity:  0.9902272256371296\n",
      "Sensitivity:  0.8641778036025567\n",
      "Precision:  0.9131235610130468\n",
      "F1-Score:  0.8879767146802001\n",
      "Loss: 0.0947 Lr: 0.0002\n",
      "===========End of Epoch 35=============\n",
      "Epoch 36/59\n",
      "----------\n"
     ]
    },
    {
     "name": "stderr",
     "output_type": "stream",
     "text": [
      "100%|███████████████████████████████████████████████████████████████████████████████| 1620/1620 [08:08<00:00,  3.31it/s]\n"
     ]
    },
    {
     "name": "stdout",
     "output_type": "stream",
     "text": [
      "Stage train\n",
      "Specificity:  0.9909565742899076\n",
      "Sensitivity:  0.8816267247639796\n",
      "Precision:  0.9205687203791469\n",
      "F1-Score:  0.9006769915607902\n",
      "Loss: 0.0530 Lr: 0.0002\n"
     ]
    },
    {
     "name": "stderr",
     "output_type": "stream",
     "text": [
      "100%|█████████████████████████████████████████████████████████████████████████████████| 405/405 [00:53<00:00,  7.51it/s]\n"
     ]
    },
    {
     "name": "stdout",
     "output_type": "stream",
     "text": [
      "Stage val\n",
      "Specificity:  0.990296123629457\n",
      "Sensitivity:  0.8612926652142339\n",
      "Precision:  0.9134319162045594\n",
      "F1-Score:  0.8865963968004784\n",
      "Loss: 0.1022 Lr: 0.0002\n",
      "===========End of Epoch 36=============\n",
      "Epoch 37/59\n",
      "----------\n"
     ]
    },
    {
     "name": "stderr",
     "output_type": "stream",
     "text": [
      "100%|███████████████████████████████████████████████████████████████████████████████| 1620/1620 [08:08<00:00,  3.32it/s]\n"
     ]
    },
    {
     "name": "stdout",
     "output_type": "stream",
     "text": [
      "Stage train\n",
      "Specificity:  0.9914745748079081\n",
      "Sensitivity:  0.8883442265795207\n",
      "Precision:  0.925302571860817\n",
      "F1-Score:  0.9064468321600593\n",
      "Loss: 0.0510 Lr: 0.0002\n"
     ]
    },
    {
     "name": "stderr",
     "output_type": "stream",
     "text": [
      "100%|█████████████████████████████████████████████████████████████████████████████████| 405/405 [00:52<00:00,  7.71it/s]\n"
     ]
    },
    {
     "name": "stdout",
     "output_type": "stream",
     "text": [
      "Stage val\n",
      "Specificity:  0.9904687904687904\n",
      "Sensitivity:  0.8689905591866376\n",
      "Precision:  0.9155317521040551\n",
      "F1-Score:  0.8916542473919523\n",
      "Loss: 0.0993 Lr: 0.0002\n",
      "===========End of Epoch 37=============\n",
      "Epoch 38/59\n",
      "----------\n"
     ]
    },
    {
     "name": "stderr",
     "output_type": "stream",
     "text": [
      "100%|███████████████████████████████████████████████████████████████████████████████| 1620/1620 [08:07<00:00,  3.32it/s]\n"
     ]
    },
    {
     "name": "stdout",
     "output_type": "stream",
     "text": [
      "Stage train\n",
      "Specificity:  0.990999740999741\n",
      "Sensitivity:  0.8885257806826434\n",
      "Precision:  0.9214837130483902\n",
      "F1-Score:  0.9047046862002033\n",
      "Loss: 0.0495 Lr: 0.0002\n"
     ]
    },
    {
     "name": "stderr",
     "output_type": "stream",
     "text": [
      "100%|█████████████████████████████████████████████████████████████████████████████████| 405/405 [00:50<00:00,  7.96it/s]\n"
     ]
    },
    {
     "name": "stdout",
     "output_type": "stream",
     "text": [
      "Stage val\n",
      "Specificity:  0.9902444920229297\n",
      "Sensitivity:  0.8654851830331203\n",
      "Precision:  0.9133834125402422\n",
      "F1-Score:  0.8887894383530992\n",
      "Loss: 0.1087 Lr: 0.0002\n",
      "===========End of Epoch 38=============\n",
      "Epoch 39/59\n",
      "----------\n"
     ]
    },
    {
     "name": "stderr",
     "output_type": "stream",
     "text": [
      "100%|███████████████████████████████████████████████████████████████████████████████| 1620/1620 [08:10<00:00,  3.30it/s]\n"
     ]
    },
    {
     "name": "stdout",
     "output_type": "stream",
     "text": [
      "Stage train\n",
      "Specificity:  0.9912159537272845\n",
      "Sensitivity:  0.8953868507083182\n",
      "Precision:  0.9237399287989507\n",
      "F1-Score:  0.9093424329060223\n",
      "Loss: 0.0475 Lr: 0.0002\n"
     ]
    },
    {
     "name": "stderr",
     "output_type": "stream",
     "text": [
      "100%|█████████████████████████████████████████████████████████████████████████████████| 405/405 [00:50<00:00,  8.07it/s]\n"
     ]
    },
    {
     "name": "stdout",
     "output_type": "stream",
     "text": [
      "Stage val\n",
      "Specificity:  0.9891225525743292\n",
      "Sensitivity:  0.8798314443475734\n",
      "Precision:  0.9057591623036649\n",
      "F1-Score:  0.8926070612515664\n",
      "Loss: 0.1079 Lr: 0.0002\n",
      "===========End of Epoch 39=============\n",
      "Epoch 40/59\n",
      "----------\n"
     ]
    },
    {
     "name": "stderr",
     "output_type": "stream",
     "text": [
      "100%|███████████████████████████████████████████████████████████████████████████████| 1620/1620 [08:11<00:00,  3.30it/s]\n"
     ]
    },
    {
     "name": "stdout",
     "output_type": "stream",
     "text": [
      "Stage train\n",
      "Specificity:  0.9919927481492673\n",
      "Sensitivity:  0.8981296531686944\n",
      "Precision:  0.9302238104194095\n",
      "F1-Score:  0.9138950480413897\n",
      "Loss: 0.0479 Lr: 0.0002\n"
     ]
    },
    {
     "name": "stderr",
     "output_type": "stream",
     "text": [
      "100%|█████████████████████████████████████████████████████████████████████████████████| 405/405 [00:51<00:00,  7.93it/s]\n"
     ]
    },
    {
     "name": "stdout",
     "output_type": "stream",
     "text": [
      "Stage val\n",
      "Specificity:  0.9901063609365288\n",
      "Sensitivity:  0.8832074375363161\n",
      "Precision:  0.9138734405531339\n",
      "F1-Score:  0.8982787914604418\n",
      "Loss: 0.1109 Lr: 0.0002\n",
      "===========End of Epoch 40=============\n",
      "Epoch 41/59\n",
      "----------\n"
     ]
    },
    {
     "name": "stderr",
     "output_type": "stream",
     "text": [
      "100%|███████████████████████████████████████████████████████████████████████████████| 1620/1620 [08:08<00:00,  3.32it/s]\n"
     ]
    },
    {
     "name": "stdout",
     "output_type": "stream",
     "text": [
      "Stage train\n",
      "Specificity:  0.9919062419062419\n",
      "Sensitivity:  0.9077705156136529\n",
      "Precision:  0.9302325581395349\n",
      "F1-Score:  0.9188642837452909\n",
      "Loss: 0.0433 Lr: 0.0002\n"
     ]
    },
    {
     "name": "stderr",
     "output_type": "stream",
     "text": [
      "100%|█████████████████████████████████████████████████████████████████████████████████| 405/405 [00:51<00:00,  7.83it/s]\n"
     ]
    },
    {
     "name": "stdout",
     "output_type": "stream",
     "text": [
      "Stage val\n",
      "Specificity:  0.9904169904169904\n",
      "Sensitivity:  0.8894698620188817\n",
      "Precision:  0.9169037281030095\n",
      "F1-Score:  0.9029784724270128\n",
      "Loss: 0.1042 Lr: 0.0002\n",
      "===========End of Epoch 41=============\n",
      "Epoch 42/59\n",
      "----------\n"
     ]
    },
    {
     "name": "stderr",
     "output_type": "stream",
     "text": [
      "100%|███████████████████████████████████████████████████████████████████████████████| 1620/1620 [08:08<00:00,  3.31it/s]\n"
     ]
    },
    {
     "name": "stdout",
     "output_type": "stream",
     "text": [
      "Stage train\n",
      "Specificity:  0.9918857093530148\n",
      "Sensitivity:  0.9043984005816067\n",
      "Precision:  0.929745889387145\n",
      "F1-Score:  0.9168969964989866\n",
      "Loss: 0.0443 Lr: 0.0002\n"
     ]
    },
    {
     "name": "stderr",
     "output_type": "stream",
     "text": [
      "100%|█████████████████████████████████████████████████████████████████████████████████| 405/405 [00:53<00:00,  7.53it/s]\n"
     ]
    },
    {
     "name": "stdout",
     "output_type": "stream",
     "text": [
      "Stage val\n",
      "Specificity:  0.98998670648965\n",
      "Sensitivity:  0.8894866947797004\n",
      "Precision:  0.9133940570404658\n",
      "F1-Score:  0.9012818623839693\n",
      "Loss: 0.0997 Lr: 0.0002\n",
      "===========End of Epoch 42=============\n",
      "Epoch 43/59\n",
      "----------\n"
     ]
    },
    {
     "name": "stderr",
     "output_type": "stream",
     "text": [
      "100%|███████████████████████████████████████████████████████████████████████████████| 1620/1620 [08:13<00:00,  3.28it/s]\n"
     ]
    },
    {
     "name": "stdout",
     "output_type": "stream",
     "text": [
      "Stage train\n",
      "Specificity:  0.9922736592208913\n",
      "Sensitivity:  0.9037238873751136\n",
      "Precision:  0.9328708044252766\n",
      "F1-Score:  0.9180660638494188\n",
      "Loss: 0.0428 Lr: 0.0002\n"
     ]
    },
    {
     "name": "stderr",
     "output_type": "stream",
     "text": [
      "100%|█████████████████████████████████████████████████████████████████████████████████| 405/405 [00:53<00:00,  7.61it/s]\n"
     ]
    },
    {
     "name": "stdout",
     "output_type": "stream",
     "text": [
      "Stage val\n",
      "Specificity:  0.9903829552125418\n",
      "Sensitivity:  0.8869514675966289\n",
      "Precision:  0.9163789220837713\n",
      "F1-Score:  0.9014250904526323\n",
      "Loss: 0.1030 Lr: 0.0002\n",
      "===========End of Epoch 43=============\n",
      "Epoch 44/59\n",
      "----------\n"
     ]
    },
    {
     "name": "stderr",
     "output_type": "stream",
     "text": [
      "100%|███████████████████████████████████████████████████████████████████████████████| 1620/1620 [08:10<00:00,  3.30it/s]\n"
     ]
    },
    {
     "name": "stdout",
     "output_type": "stream",
     "text": [
      "Stage train\n",
      "Specificity:  0.9922299922299922\n",
      "Sensitivity:  0.9121278140885984\n",
      "Precision:  0.9331352154531947\n",
      "F1-Score:  0.9225119353654058\n",
      "Loss: 0.0407 Lr: 0.0002\n"
     ]
    },
    {
     "name": "stderr",
     "output_type": "stream",
     "text": [
      "100%|█████████████████████████████████████████████████████████████████████████████████| 405/405 [00:54<00:00,  7.44it/s]\n"
     ]
    },
    {
     "name": "stdout",
     "output_type": "stream",
     "text": [
      "Stage val\n",
      "Specificity:  0.9911249244582578\n",
      "Sensitivity:  0.8891793754538853\n",
      "Precision:  0.9225437010247137\n",
      "F1-Score:  0.9055543229051106\n",
      "Loss: 0.1135 Lr: 0.0002\n",
      "===========End of Epoch 44=============\n",
      "Epoch 45/59\n",
      "----------\n"
     ]
    },
    {
     "name": "stderr",
     "output_type": "stream",
     "text": [
      "100%|███████████████████████████████████████████████████████████████████████████████| 1620/1620 [08:05<00:00,  3.33it/s]\n"
     ]
    },
    {
     "name": "stdout",
     "output_type": "stream",
     "text": [
      "Stage train\n",
      "Specificity:  0.9924245694306557\n",
      "Sensitivity:  0.9175444969124591\n",
      "Precision:  0.9350360910605219\n",
      "F1-Score:  0.9262077183976531\n",
      "Loss: 0.0400 Lr: 0.0002\n"
     ]
    },
    {
     "name": "stderr",
     "output_type": "stream",
     "text": [
      "100%|█████████████████████████████████████████████████████████████████████████████████| 405/405 [00:53<00:00,  7.55it/s]\n"
     ]
    },
    {
     "name": "stdout",
     "output_type": "stream",
     "text": [
      "Stage val\n",
      "Specificity:  0.9898302743581332\n",
      "Sensitivity:  0.8984454453000146\n",
      "Precision:  0.9130370589103795\n",
      "F1-Score:  0.9056824838898653\n",
      "Loss: 0.1139 Lr: 0.0002\n",
      "===========End of Epoch 45=============\n",
      "Epoch 46/59\n",
      "----------\n"
     ]
    },
    {
     "name": "stderr",
     "output_type": "stream",
     "text": [
      "100%|███████████████████████████████████████████████████████████████████████████████| 1620/1620 [08:07<00:00,  3.32it/s]\n"
     ]
    },
    {
     "name": "stdout",
     "output_type": "stream",
     "text": [
      "Stage train\n",
      "Specificity:  0.9930285763619097\n",
      "Sensitivity:  0.9226579520697168\n",
      "Precision:  0.9402405180388529\n",
      "F1-Score:  0.9313662604233482\n",
      "Loss: 0.0380 Lr: 0.0002\n"
     ]
    },
    {
     "name": "stderr",
     "output_type": "stream",
     "text": [
      "100%|█████████████████████████████████████████████████████████████████████████████████| 405/405 [00:53<00:00,  7.62it/s]\n"
     ]
    },
    {
     "name": "stdout",
     "output_type": "stream",
     "text": [
      "Stage val\n",
      "Specificity:  0.9922645255978589\n",
      "Sensitivity:  0.886564996368918\n",
      "Precision:  0.9316239316239316\n",
      "F1-Score:  0.908536131576989\n",
      "Loss: 0.1270 Lr: 0.0002\n",
      "===========End of Epoch 46=============\n",
      "Epoch 47/59\n",
      "----------\n"
     ]
    },
    {
     "name": "stderr",
     "output_type": "stream",
     "text": [
      "100%|███████████████████████████████████████████████████████████████████████████████| 1620/1620 [08:08<00:00,  3.32it/s]\n"
     ]
    },
    {
     "name": "stdout",
     "output_type": "stream",
     "text": [
      "Stage train\n",
      "Specificity:  0.9933956359398269\n",
      "Sensitivity:  0.9257308879607772\n",
      "Precision:  0.9433752775721688\n",
      "F1-Score:  0.9344698011181377\n",
      "Loss: 0.0368 Lr: 0.0002\n"
     ]
    },
    {
     "name": "stderr",
     "output_type": "stream",
     "text": [
      "100%|█████████████████████████████████████████████████████████████████████████████████| 405/405 [00:53<00:00,  7.64it/s]\n"
     ]
    },
    {
     "name": "stdout",
     "output_type": "stream",
     "text": [
      "Stage val\n",
      "Specificity:  0.991332423986049\n",
      "Sensitivity:  0.9023681534214731\n",
      "Precision:  0.9252197229256666\n",
      "F1-Score:  0.9136510738452486\n",
      "Loss: 0.1105 Lr: 0.0002\n",
      "===========End of Epoch 47=============\n",
      "Epoch 48/59\n",
      "----------\n"
     ]
    },
    {
     "name": "stderr",
     "output_type": "stream",
     "text": [
      "100%|███████████████████████████████████████████████████████████████████████████████| 1620/1620 [08:07<00:00,  3.32it/s]\n"
     ]
    },
    {
     "name": "stdout",
     "output_type": "stream",
     "text": [
      "Stage train\n",
      "Specificity:  0.993417360901282\n",
      "Sensitivity:  0.9240828187431892\n",
      "Precision:  0.9434452067494901\n",
      "F1-Score:  0.933663638865951\n",
      "Loss: 0.0360 Lr: 0.0002\n"
     ]
    },
    {
     "name": "stderr",
     "output_type": "stream",
     "text": [
      "100%|█████████████████████████████████████████████████████████████████████████████████| 405/405 [00:53<00:00,  7.58it/s]\n"
     ]
    },
    {
     "name": "stdout",
     "output_type": "stream",
     "text": [
      "Stage val\n",
      "Specificity:  0.9910389004955367\n",
      "Sensitivity:  0.9081795728606712\n",
      "Precision:  0.9233382570162482\n",
      "F1-Score:  0.9156961839888669\n",
      "Loss: 0.1075 Lr: 0.0002\n",
      "===========End of Epoch 48=============\n",
      "Epoch 49/59\n",
      "----------\n"
     ]
    },
    {
     "name": "stderr",
     "output_type": "stream",
     "text": [
      "100%|███████████████████████████████████████████████████████████████████████████████| 1620/1620 [08:07<00:00,  3.32it/s]\n"
     ]
    },
    {
     "name": "stdout",
     "output_type": "stream",
     "text": [
      "Stage train\n",
      "Specificity:  0.9931149097815765\n",
      "Sensitivity:  0.9304647785039942\n",
      "Precision:  0.9414033798677444\n",
      "F1-Score:  0.935902118334551\n",
      "Loss: 0.0339 Lr: 0.0002\n"
     ]
    },
    {
     "name": "stderr",
     "output_type": "stream",
     "text": [
      "100%|█████████████████████████████████████████████████████████████████████████████████| 405/405 [00:53<00:00,  7.58it/s]\n"
     ]
    },
    {
     "name": "stdout",
     "output_type": "stream",
     "text": [
      "Stage val\n",
      "Specificity:  0.9917121348159403\n",
      "Sensitivity:  0.8999128413712958\n",
      "Precision:  0.9280898876404494\n",
      "F1-Score:  0.9137842023748063\n",
      "Loss: 0.1148 Lr: 0.0002\n",
      "===========End of Epoch 49=============\n",
      "Epoch 50/59\n",
      "----------\n"
     ]
    },
    {
     "name": "stderr",
     "output_type": "stream",
     "text": [
      "100%|███████████████████████████████████████████████████████████████████████████████| 1620/1620 [08:08<00:00,  3.32it/s]\n"
     ]
    },
    {
     "name": "stdout",
     "output_type": "stream",
     "text": [
      "Stage train\n",
      "Specificity:  0.9937841279433665\n",
      "Sensitivity:  0.9324496095877973\n",
      "Precision:  0.9468928637285635\n",
      "F1-Score:  0.939615736505032\n",
      "Loss: 0.0337 Lr: 0.0002\n"
     ]
    },
    {
     "name": "stderr",
     "output_type": "stream",
     "text": [
      "100%|█████████████████████████████████████████████████████████████████████████████████| 405/405 [00:53<00:00,  7.55it/s]\n"
     ]
    },
    {
     "name": "stdout",
     "output_type": "stream",
     "text": [
      "Stage val\n",
      "Specificity:  0.9924373230195456\n",
      "Sensitivity:  0.9035444509006392\n",
      "Precision:  0.9342144788224692\n",
      "F1-Score:  0.9186235415743613\n",
      "Loss: 0.1194 Lr: 0.0002\n",
      "===========End of Epoch 50=============\n",
      "Epoch 51/59\n",
      "----------\n"
     ]
    },
    {
     "name": "stderr",
     "output_type": "stream",
     "text": [
      "100%|███████████████████████████████████████████████████████████████████████████████| 1620/1620 [08:06<00:00,  3.33it/s]\n"
     ]
    },
    {
     "name": "stdout",
     "output_type": "stream",
     "text": [
      "Stage train\n",
      "Specificity:  0.9942588275921609\n",
      "Sensitivity:  0.9377269426289034\n",
      "Precision:  0.9510219112502302\n",
      "F1-Score:  0.9443276350671908\n",
      "Loss: 0.0310 Lr: 0.0002\n"
     ]
    },
    {
     "name": "stderr",
     "output_type": "stream",
     "text": [
      "100%|█████████████████████████████████████████████████████████████████████████████████| 405/405 [00:53<00:00,  7.58it/s]\n"
     ]
    },
    {
     "name": "stdout",
     "output_type": "stream",
     "text": [
      "Stage val\n",
      "Specificity:  0.9918157331307411\n",
      "Sensitivity:  0.9161824520627542\n",
      "Precision:  0.9300988054859165\n",
      "F1-Score:  0.9230881814855469\n",
      "Loss: 0.1111 Lr: 0.0002\n",
      "===========End of Epoch 51=============\n",
      "Epoch 52/59\n",
      "----------\n"
     ]
    },
    {
     "name": "stderr",
     "output_type": "stream",
     "text": [
      "100%|███████████████████████████████████████████████████████████████████████████████| 1620/1620 [08:06<00:00,  3.33it/s]\n"
     ]
    },
    {
     "name": "stdout",
     "output_type": "stream",
     "text": [
      "Stage train\n",
      "Specificity:  0.9939354699471242\n",
      "Sensitivity:  0.9356948228882834\n",
      "Precision:  0.9482695139911634\n",
      "F1-Score:  0.9419402029807077\n",
      "Loss: 0.0322 Lr: 0.0002\n"
     ]
    },
    {
     "name": "stderr",
     "output_type": "stream",
     "text": [
      "100%|█████████████████████████████████████████████████████████████████████████████████| 405/405 [00:53<00:00,  7.55it/s]\n"
     ]
    },
    {
     "name": "stdout",
     "output_type": "stream",
     "text": [
      "Stage val\n",
      "Specificity:  0.9921787323676169\n",
      "Sensitivity:  0.9088795233250981\n",
      "Precision:  0.9324586253168332\n",
      "F1-Score:  0.9205181042095967\n",
      "Loss: 0.1112 Lr: 0.0002\n",
      "===========End of Epoch 52=============\n",
      "Epoch 53/59\n",
      "----------\n"
     ]
    },
    {
     "name": "stderr",
     "output_type": "stream",
     "text": [
      "100%|███████████████████████████████████████████████████████████████████████████████| 1620/1620 [06:13<00:00,  4.34it/s]\n"
     ]
    },
    {
     "name": "stdout",
     "output_type": "stream",
     "text": [
      "Stage train\n",
      "Specificity:  0.9938920423887941\n",
      "Sensitivity:  0.9408026148538224\n",
      "Precision:  0.9482064421669106\n",
      "F1-Score:  0.9444900191413726\n",
      "Loss: 0.0305 Lr: 0.0002\n"
     ]
    },
    {
     "name": "stderr",
     "output_type": "stream",
     "text": [
      "100%|█████████████████████████████████████████████████████████████████████████████████| 405/405 [00:48<00:00,  8.36it/s]\n"
     ]
    },
    {
     "name": "stdout",
     "output_type": "stream",
     "text": [
      "Stage val\n",
      "Specificity:  0.9933180240689262\n",
      "Sensitivity:  0.897137875926195\n",
      "Precision:  0.9410240780249923\n",
      "F1-Score:  0.9185570844179992\n",
      "Loss: 0.1304 Lr: 0.0002\n",
      "===========End of Epoch 53=============\n",
      "Epoch 54/59\n",
      "----------\n"
     ]
    },
    {
     "name": "stderr",
     "output_type": "stream",
     "text": [
      " 14%|███████████▍                                                                    | 231/1620 [00:46<04:24,  5.26it/s]"
     ]
    }
   ],
   "source": [
    "seed = 42\n",
    "np.random.seed(seed)\n",
    "torch.manual_seed(seed)\n",
    "torch.cuda.manual_seed(seed)\n",
    "\n",
    "runner()"
   ]
  },
  {
   "cell_type": "code",
   "execution_count": null,
   "id": "01b14518",
   "metadata": {
    "pycharm": {
     "name": "#%%\n"
    }
   },
   "outputs": [],
   "source": []
  }
 ],
 "metadata": {
  "kernelspec": {
   "display_name": ".venv",
   "language": "python",
   "name": ".venv"
  },
  "language_info": {
   "codemirror_mode": {
    "name": "ipython",
    "version": 3
   },
   "file_extension": ".py",
   "mimetype": "text/x-python",
   "name": "python",
   "nbconvert_exporter": "python",
   "pygments_lexer": "ipython3",
   "version": "3.8.10"
  }
 },
 "nbformat": 4,
 "nbformat_minor": 5
}